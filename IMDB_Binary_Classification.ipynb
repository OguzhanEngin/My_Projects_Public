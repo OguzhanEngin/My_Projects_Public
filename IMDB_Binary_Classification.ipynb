{
 "cells": [
  {
   "cell_type": "code",
   "execution_count": 1,
   "metadata": {},
   "outputs": [],
   "source": [
    "import numpy as np\n",
    "import pandas as pd\n",
    "from keras.datasets import imdb\n",
    "from keras.layers import Dense, Dropout\n",
    "from keras.models import Sequential\n",
    "from sklearn.model_selection import train_test_split\n",
    "from tensorflow.keras.optimizers import SGD\n",
    "\n",
    "\n",
    "(train_data, train_labels), (test_data, test_labels) = imdb.load_data(num_words=15000)"
   ]
  },
  {
   "cell_type": "code",
   "execution_count": 2,
   "metadata": {},
   "outputs": [
    {
     "data": {
      "text/plain": [
       "(43,)"
      ]
     },
     "execution_count": 2,
     "metadata": {},
     "output_type": "execute_result"
    }
   ],
   "source": [
    "np.asarray(train_data[5]).shape"
   ]
  },
  {
   "cell_type": "code",
   "execution_count": 3,
   "metadata": {},
   "outputs": [],
   "source": [
    "# Defining a function for turning sequences into one hot vector.\n",
    "def one_hot_vector_transformer(sequences, dimension):\n",
    "\n",
    "    transformed_results = np.zeros((len(sequences), dimension))\n",
    "\n",
    "    for i, sequence in enumerate(sequences):\n",
    "        transformed_results[i, sequence] = 1\n",
    "    \n",
    "    return transformed_results\n"
   ]
  },
  {
   "cell_type": "code",
   "execution_count": 4,
   "metadata": {},
   "outputs": [],
   "source": [
    "X_train_validation = one_hot_vector_transformer(train_data, 15000)\n",
    "X_test = one_hot_vector_transformer(test_data, 15000)"
   ]
  },
  {
   "cell_type": "code",
   "execution_count": 5,
   "metadata": {},
   "outputs": [],
   "source": [
    "y_train_validation = np.asarray(train_labels)\n",
    "y_test = np.asarray(test_labels)"
   ]
  },
  {
   "cell_type": "code",
   "execution_count": 11,
   "metadata": {},
   "outputs": [],
   "source": [
    "X_train, X_validation, y_train, y_validation = train_test_split(X_train_validation, y_train_validation, test_size=0.25, random_state=10)\n"
   ]
  },
  {
   "cell_type": "code",
   "execution_count": 12,
   "metadata": {},
   "outputs": [],
   "source": [
    "\n",
    "# Creating the model.\n",
    "model = Sequential()\n",
    "\n",
    "model.add(Dense(32, activation='relu'))\n",
    "model.add(Dropout(0.45))\n",
    "model.add(Dense(32, activation='relu'))\n",
    "model.add(Dropout(0.45))\n",
    "model.add(Dense(16, activation='relu'))\n",
    "model.add(Dropout(0.45))\n",
    "model.add(Dense(1, activation='sigmoid'))\n",
    "\n",
    "model.compile(optimizer='adam', loss='binary_crossentropy', metrics=['accuracy'])\n"
   ]
  },
  {
   "cell_type": "code",
   "execution_count": 13,
   "metadata": {},
   "outputs": [
    {
     "name": "stdout",
     "output_type": "stream",
     "text": [
      "Epoch 1/10\n",
      "293/293 [==============================] - 4s 11ms/step - loss: 0.5245 - accuracy: 0.7324 - val_loss: 0.2954 - val_accuracy: 0.8790\n",
      "Epoch 2/10\n",
      "293/293 [==============================] - 2s 5ms/step - loss: 0.3028 - accuracy: 0.8875 - val_loss: 0.2704 - val_accuracy: 0.8912\n",
      "Epoch 3/10\n",
      "293/293 [==============================] - 1s 5ms/step - loss: 0.2313 - accuracy: 0.9189 - val_loss: 0.2840 - val_accuracy: 0.8920\n",
      "Epoch 4/10\n",
      "293/293 [==============================] - 1s 5ms/step - loss: 0.1723 - accuracy: 0.9364 - val_loss: 0.3131 - val_accuracy: 0.8922\n",
      "Epoch 5/10\n",
      "293/293 [==============================] - 2s 5ms/step - loss: 0.1458 - accuracy: 0.9470 - val_loss: 0.3458 - val_accuracy: 0.8914\n",
      "Epoch 6/10\n",
      "293/293 [==============================] - 2s 6ms/step - loss: 0.1238 - accuracy: 0.9535 - val_loss: 0.3680 - val_accuracy: 0.8866\n",
      "Epoch 7/10\n",
      "293/293 [==============================] - 1s 5ms/step - loss: 0.1088 - accuracy: 0.9614 - val_loss: 0.4454 - val_accuracy: 0.8885\n",
      "Epoch 8/10\n",
      "293/293 [==============================] - 2s 5ms/step - loss: 0.0988 - accuracy: 0.9613 - val_loss: 0.5037 - val_accuracy: 0.8867\n",
      "Epoch 9/10\n",
      "293/293 [==============================] - 1s 5ms/step - loss: 0.0914 - accuracy: 0.9653 - val_loss: 0.4893 - val_accuracy: 0.8819\n",
      "Epoch 10/10\n",
      "293/293 [==============================] - 2s 6ms/step - loss: 0.0829 - accuracy: 0.9677 - val_loss: 0.5228 - val_accuracy: 0.8826\n"
     ]
    }
   ],
   "source": [
    "history = model.fit(X_train, y_train, batch_size=64 , epochs=10, validation_data=(X_validation, y_validation))"
   ]
  },
  {
   "cell_type": "code",
   "execution_count": 14,
   "metadata": {},
   "outputs": [
    {
     "name": "stdout",
     "output_type": "stream",
     "text": [
      "125/125 [==============================] - 2s 11ms/step - loss: 0.5684 - accuracy: 0.8689\n",
      "test loss, test acc: [0.5684073567390442, 0.8688799738883972]\n"
     ]
    }
   ],
   "source": [
    "results = model.evaluate(X_test, y_test, batch_size=200)\n",
    "\n",
    "print(\"test loss, test acc:\", results)"
   ]
  },
  {
   "cell_type": "code",
   "execution_count": 15,
   "metadata": {},
   "outputs": [
    {
     "name": "stderr",
     "output_type": "stream",
     "text": [
      "/var/folders/vy/55zch8zs5qd1y2j8sysjjrk80000gn/T/ipykernel_88490/3706407901.py:8: UserWarning: color is redundantly defined by the 'color' keyword argument and the fmt string \"b\" (-> color=(0.0, 0.0, 1.0, 1)). The keyword argument will take precedence.\n",
      "  plt.plot(epochs, loss_values, 'b', label='Training loss', color='red')\n"
     ]
    },
    {
     "data": {
      "image/png": "[encoded data removed]",
      "text/plain": [
       "<Figure size 432x288 with 1 Axes>"
      ]
     },
     "metadata": {
      "needs_background": "light"
     },
     "output_type": "display_data"
    }
   ],
   "source": [
    "import matplotlib.pyplot as plt\n",
    "\n",
    "# Graphing training and validation loss\n",
    "history_dict = history.history\n",
    "loss_values = history_dict['loss']\n",
    "val_loss_values = history_dict['val_loss']\n",
    "epochs = range(1, len(loss_values) + 1)\n",
    "plt.plot(epochs, loss_values, 'b', label='Training loss', color='red')\n",
    "plt.plot(epochs, val_loss_values, 'b', label='Validation loss')\n",
    "plt.title('Training and validation loss')\n",
    "plt.xlabel('Epochs')\n",
    "plt.ylabel('Loss')\n",
    "plt.legend()\n",
    "plt.show()"
   ]
  },
  {
   "cell_type": "code",
   "execution_count": 16,
   "metadata": {},
   "outputs": [
    {
     "name": "stderr",
     "output_type": "stream",
     "text": [
      "/var/folders/vy/55zch8zs5qd1y2j8sysjjrk80000gn/T/ipykernel_88490/3317927507.py:4: UserWarning: color is redundantly defined by the 'color' keyword argument and the fmt string \"b\" (-> color=(0.0, 0.0, 1.0, 1)). The keyword argument will take precedence.\n",
      "  plt.plot(epochs, acc_values, 'b', label='Accuracy', color='red')\n"
     ]
    },
    {
     "data": {
      "image/png": "[encoded data removed]",
      "text/plain": [
       "<Figure size 432x288 with 1 Axes>"
      ]
     },
     "metadata": {
      "needs_background": "light"
     },
     "output_type": "display_data"
    }
   ],
   "source": [
    "# Graphing training and validation accuracy.\n",
    "acc_values = history_dict['accuracy']\n",
    "val_acc_values = history_dict['val_accuracy']\n",
    "epochs = range(1, len(loss_values) + 1)\n",
    "plt.plot(epochs, acc_values, 'b', label='Accuracy', color='red')\n",
    "plt.plot(epochs, val_acc_values, 'b', label='Validation Accuracy')\n",
    "plt.title('Training and validation accuracy')\n",
    "plt.xlabel('Epochs')\n",
    "plt.ylabel('Accuracy')\n",
    "plt.legend()\n",
    "plt.show()"
   ]
  },
  {
   "cell_type": "markdown",
   "metadata": {},
   "source": [
    "From these graphs, we can conclude that ideal epoch number for this model is 2."
   ]
  }
 ],
 "metadata": {
  "interpreter": {
   "hash": "01ca40480eea72373a1540d628c1dbaa939447450b5a00017a71696ac6208943"
  },
  "kernelspec": {
   "display_name": "Python 3.8.6 64-bit ('3.8.6')",
   "language": "python",
   "name": "python3"
  },
  "language_info": {
   "codemirror_mode": {
    "name": "ipython",
    "version": 3
   },
   "file_extension": ".py",
   "mimetype": "text/x-python",
   "name": "python",
   "nbconvert_exporter": "python",
   "pygments_lexer": "ipython3",
   "version": "3.8.6"
  },
  "orig_nbformat": 4
 },
 "nbformat": 4,
 "nbformat_minor": 2
}

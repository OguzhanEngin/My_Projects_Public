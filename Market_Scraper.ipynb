{
 "cells": [
  {
   "cell_type": "code",
   "execution_count": 7,
   "metadata": {},
   "outputs": [
    {
     "name": "stderr",
     "output_type": "stream",
     "text": [
      "\n",
      "\n",
      "====== WebDriver manager ======\n",
      "Current google-chrome version is 100.0.4896\n",
      "Get LATEST chromedriver version for 100.0.4896 google-chrome\n",
      "Driver [/Users/oguzhanengin/.wdm/drivers/chromedriver/mac64/100.0.4896.60/chromedriver] found in cache\n",
      "/var/folders/vy/55zch8zs5qd1y2j8sysjjrk80000gn/T/ipykernel_85742/2277244389.py:60: DeprecationWarning: executable_path has been deprecated, please pass in a Service object\n",
      "  driver = webdriver.Chrome(ChromeDriverManager().install())\n"
     ]
    }
   ],
   "source": [
    "from selenium import webdriver\n",
    "from webdriver_manager.chrome import ChromeDriverManager\n",
    "from selenium.webdriver.common.by import By\n",
    "from selenium.webdriver.common.keys import Keys\n",
    "from selenium.webdriver.support.wait import WebDriverWait\n",
    "from selenium.webdriver.support import expected_conditions as EC\n",
    "import xlsxwriter\n",
    "\n",
    "# Function for scraping trendyol items.\n",
    "def trendyol_scraper(driver, item_list, worksheet):\n",
    "\n",
    "    \n",
    "    worksheet.write(1, 0, 'Trendyol')\n",
    "\n",
    "    # Driver goes to trendyol and waits for 3 seconds.\n",
    "    driver.get('https://www.trendyol.com/')\n",
    "\n",
    "    \n",
    "    # For loop for scripting for word list.\n",
    "    for item in item_list:\n",
    "\n",
    "        x = item_list.index(item)\n",
    "        worksheet.write(0, x +1, item)\n",
    "        # Clearing search input and entering the name of item.\n",
    "        search_button = WebDriverWait(driver, 10).until(EC.element_to_be_clickable((By.CSS_SELECTOR, 'input[class=search-box]')))\n",
    "        search_button.clear()\n",
    "        search_button.send_keys(item)\n",
    "        search_button.send_keys(Keys.ENTER)\n",
    "\n",
    "        # Finding price of first element of search.\n",
    "        price = WebDriverWait(driver, 10).until(EC.presence_of_element_located((By.CSS_SELECTOR, 'div[class=\"prc-box-dscntd\"]'))).text\n",
    "        worksheet.write(1, x+1, price)\n",
    "        \n",
    "    \n",
    "  \n",
    "# Function for scraping hepsiburada.\n",
    "def hepsiburada_scraper(driver, item_list, worksheet):\n",
    "\n",
    "    worksheet.write(2, 0, 'Hepsi Burada')\n",
    "\n",
    "    # For loop for scripting for word list.\n",
    "    for item in item_list:\n",
    "\n",
    "        search_name = item.replace(' ', '+')\n",
    "        x = item_list.index(item)\n",
    "\n",
    "\n",
    "        driver.get(f'https://www.hepsiburada.com/ara?q={search_name}')\n",
    "        \n",
    "\n",
    "        # Finding price of first element of search.\n",
    "        price = WebDriverWait(driver, 10).until(EC.presence_of_element_located((By.CSS_SELECTOR, 'div[data-test-id=\"price-current-price\"]'))).text\n",
    "        worksheet.write(2, x+1, price)\n",
    "        \n",
    "    \n",
    "\n",
    "# Function for scraping the online market.\n",
    "def market_scraper(item_list):\n",
    "\n",
    "    driver = webdriver.Chrome(ChromeDriverManager().install())\n",
    "    workbook = xlsxwriter.Workbook('Price_Comparison.xlsx')\n",
    "    worksheet = workbook.add_worksheet()\n",
    "\n",
    "    trendyol_scraper(driver, item_list, worksheet)\n",
    "    hepsiburada_scraper(driver, item_list, worksheet)\n",
    "\n",
    "    workbook.close()\n",
    "\n",
    "market_scraper(['Starbucks Dark 250g', 'iphone 12', 'Avacado Yastık'])\n",
    "\n"
   ]
  }
 ],
 "metadata": {
  "interpreter": {
   "hash": "01ca40480eea72373a1540d628c1dbaa939447450b5a00017a71696ac6208943"
  },
  "kernelspec": {
   "display_name": "Python 3.8.6 64-bit ('3.8.6')",
   "language": "python",
   "name": "python3"
  },
  "language_info": {
   "codemirror_mode": {
    "name": "ipython",
    "version": 3
   },
   "file_extension": ".py",
   "mimetype": "text/x-python",
   "name": "python",
   "nbconvert_exporter": "python",
   "pygments_lexer": "ipython3",
   "version": "3.8.6"
  },
  "orig_nbformat": 4
 },
 "nbformat": 4,
 "nbformat_minor": 2
}

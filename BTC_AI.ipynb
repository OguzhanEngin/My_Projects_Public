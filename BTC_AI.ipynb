{
 "cells": [
  {
   "cell_type": "markdown",
   "metadata": {},
   "source": [
    "NOTE: This model is made for learning purposes, it would have better validation mean absolute percentage error without datas from early history of btc since they are making too much noise."
   ]
  },
  {
   "cell_type": "code",
   "execution_count": 1,
   "metadata": {},
   "outputs": [],
   "source": [
    "import pandas as pd\n",
    "import numpy as np\n",
    "from keras.models import Sequential, save_model\n",
    "from keras.layers import Dense, Dropout, LSTM\n",
    "from tensorflow.keras.optimizers import SGD\n",
    "import keras_tuner as kt\n",
    "\n",
    "\n",
    "# Loading data set.\n",
    "df = pd.read_csv('/Users/oguzhanengin/Desktop/MY PYTHON/MY DATAS/Bitcoin Historical Data - Investing.csv', sep=',')"
   ]
  },
  {
   "cell_type": "code",
   "execution_count": 2,
   "metadata": {},
   "outputs": [
    {
     "data": {
      "text/html": [
       "<div>\n",
       "<style scoped>\n",
       "    .dataframe tbody tr th:only-of-type {\n",
       "        vertical-align: middle;\n",
       "    }\n",
       "\n",
       "    .dataframe tbody tr th {\n",
       "        vertical-align: top;\n",
       "    }\n",
       "\n",
       "    .dataframe thead th {\n",
       "        text-align: right;\n",
       "    }\n",
       "</style>\n",
       "<table border=\"1\" class=\"dataframe\">\n",
       "  <thead>\n",
       "    <tr style=\"text-align: right;\">\n",
       "      <th></th>\n",
       "      <th>Price</th>\n",
       "      <th>Open</th>\n",
       "      <th>High</th>\n",
       "      <th>Low</th>\n",
       "      <th>Vol.</th>\n",
       "      <th>Change %</th>\n",
       "    </tr>\n",
       "  </thead>\n",
       "  <tbody>\n",
       "    <tr>\n",
       "      <th>3980</th>\n",
       "      <td>8.4</td>\n",
       "      <td>7.4</td>\n",
       "      <td>9.3</td>\n",
       "      <td>7.2</td>\n",
       "      <td>64.05K</td>\n",
       "      <td>13.21%</td>\n",
       "    </tr>\n",
       "    <tr>\n",
       "      <th>3981</th>\n",
       "      <td>7.4</td>\n",
       "      <td>7.2</td>\n",
       "      <td>7.5</td>\n",
       "      <td>7.0</td>\n",
       "      <td>29.28K</td>\n",
       "      <td>3.78%</td>\n",
       "    </tr>\n",
       "    <tr>\n",
       "      <th>3982</th>\n",
       "      <td>7.2</td>\n",
       "      <td>6.7</td>\n",
       "      <td>7.4</td>\n",
       "      <td>6.7</td>\n",
       "      <td>35.28K</td>\n",
       "      <td>6.88%</td>\n",
       "    </tr>\n",
       "    <tr>\n",
       "      <th>3983</th>\n",
       "      <td>6.7</td>\n",
       "      <td>6.1</td>\n",
       "      <td>6.8</td>\n",
       "      <td>6.0</td>\n",
       "      <td>23.87K</td>\n",
       "      <td>9.31%</td>\n",
       "    </tr>\n",
       "    <tr>\n",
       "      <th>3984</th>\n",
       "      <td>6.1</td>\n",
       "      <td>5.6</td>\n",
       "      <td>6.5</td>\n",
       "      <td>5.6</td>\n",
       "      <td>31.11K</td>\n",
       "      <td>9.48%</td>\n",
       "    </tr>\n",
       "  </tbody>\n",
       "</table>\n",
       "</div>"
      ],
      "text/plain": [
       "     Price Open High  Low    Vol. Change %\n",
       "3980   8.4  7.4  9.3  7.2  64.05K   13.21%\n",
       "3981   7.4  7.2  7.5  7.0  29.28K    3.78%\n",
       "3982   7.2  6.7  7.4  6.7  35.28K    6.88%\n",
       "3983   6.7  6.1  6.8  6.0  23.87K    9.31%\n",
       "3984   6.1  5.6  6.5  5.6  31.11K    9.48%"
      ]
     },
     "execution_count": 2,
     "metadata": {},
     "output_type": "execute_result"
    }
   ],
   "source": [
    "# Analyzing and cleaning data set.\n",
    "df = df.iloc[:-40, 1:]\n",
    "df.tail()"
   ]
  },
  {
   "cell_type": "code",
   "execution_count": 3,
   "metadata": {},
   "outputs": [
    {
     "data": {
      "text/html": [
       "<div>\n",
       "<style scoped>\n",
       "    .dataframe tbody tr th:only-of-type {\n",
       "        vertical-align: middle;\n",
       "    }\n",
       "\n",
       "    .dataframe tbody tr th {\n",
       "        vertical-align: top;\n",
       "    }\n",
       "\n",
       "    .dataframe thead th {\n",
       "        text-align: right;\n",
       "    }\n",
       "</style>\n",
       "<table border=\"1\" class=\"dataframe\">\n",
       "  <thead>\n",
       "    <tr style=\"text-align: right;\">\n",
       "      <th></th>\n",
       "      <th>Price</th>\n",
       "      <th>Open</th>\n",
       "      <th>High</th>\n",
       "      <th>Low</th>\n",
       "      <th>Vol.</th>\n",
       "      <th>Change %</th>\n",
       "    </tr>\n",
       "  </thead>\n",
       "  <tbody>\n",
       "    <tr>\n",
       "      <th>0</th>\n",
       "      <td>39,649.0</td>\n",
       "      <td>39,709.0</td>\n",
       "      <td>39,852.0</td>\n",
       "      <td>39,291.0</td>\n",
       "      <td>339.50M</td>\n",
       "      <td>-0.15%</td>\n",
       "    </tr>\n",
       "    <tr>\n",
       "      <th>1</th>\n",
       "      <td>39,709.0</td>\n",
       "      <td>40,487.0</td>\n",
       "      <td>40,792.0</td>\n",
       "      <td>39,200.0</td>\n",
       "      <td>421.30M</td>\n",
       "      <td>-1.91%</td>\n",
       "    </tr>\n",
       "    <tr>\n",
       "      <th>2</th>\n",
       "      <td>40,482.0</td>\n",
       "      <td>41,370.0</td>\n",
       "      <td>42,969.0</td>\n",
       "      <td>39,793.0</td>\n",
       "      <td>493.05M</td>\n",
       "      <td>-2.14%</td>\n",
       "    </tr>\n",
       "    <tr>\n",
       "      <th>3</th>\n",
       "      <td>41,368.0</td>\n",
       "      <td>41,499.0</td>\n",
       "      <td>42,203.0</td>\n",
       "      <td>40,915.0</td>\n",
       "      <td>382.84M</td>\n",
       "      <td>-0.33%</td>\n",
       "    </tr>\n",
       "    <tr>\n",
       "      <th>4</th>\n",
       "      <td>41,503.0</td>\n",
       "      <td>40,809.0</td>\n",
       "      <td>41,746.0</td>\n",
       "      <td>40,585.0</td>\n",
       "      <td>268.28M</td>\n",
       "      <td>1.72%</td>\n",
       "    </tr>\n",
       "    <tr>\n",
       "      <th>...</th>\n",
       "      <td>...</td>\n",
       "      <td>...</td>\n",
       "      <td>...</td>\n",
       "      <td>...</td>\n",
       "      <td>...</td>\n",
       "      <td>...</td>\n",
       "    </tr>\n",
       "    <tr>\n",
       "      <th>3980</th>\n",
       "      <td>8.4</td>\n",
       "      <td>7.4</td>\n",
       "      <td>9.3</td>\n",
       "      <td>7.2</td>\n",
       "      <td>64.05K</td>\n",
       "      <td>13.21%</td>\n",
       "    </tr>\n",
       "    <tr>\n",
       "      <th>3981</th>\n",
       "      <td>7.4</td>\n",
       "      <td>7.2</td>\n",
       "      <td>7.5</td>\n",
       "      <td>7.0</td>\n",
       "      <td>29.28K</td>\n",
       "      <td>3.78%</td>\n",
       "    </tr>\n",
       "    <tr>\n",
       "      <th>3982</th>\n",
       "      <td>7.2</td>\n",
       "      <td>6.7</td>\n",
       "      <td>7.4</td>\n",
       "      <td>6.7</td>\n",
       "      <td>35.28K</td>\n",
       "      <td>6.88%</td>\n",
       "    </tr>\n",
       "    <tr>\n",
       "      <th>3983</th>\n",
       "      <td>6.7</td>\n",
       "      <td>6.1</td>\n",
       "      <td>6.8</td>\n",
       "      <td>6.0</td>\n",
       "      <td>23.87K</td>\n",
       "      <td>9.31%</td>\n",
       "    </tr>\n",
       "    <tr>\n",
       "      <th>3984</th>\n",
       "      <td>6.1</td>\n",
       "      <td>5.6</td>\n",
       "      <td>6.5</td>\n",
       "      <td>5.6</td>\n",
       "      <td>31.11K</td>\n",
       "      <td>9.48%</td>\n",
       "    </tr>\n",
       "  </tbody>\n",
       "</table>\n",
       "<p>3985 rows × 6 columns</p>\n",
       "</div>"
      ],
      "text/plain": [
       "         Price      Open      High       Low     Vol. Change %\n",
       "0     39,649.0  39,709.0  39,852.0  39,291.0  339.50M   -0.15%\n",
       "1     39,709.0  40,487.0  40,792.0  39,200.0  421.30M   -1.91%\n",
       "2     40,482.0  41,370.0  42,969.0  39,793.0  493.05M   -2.14%\n",
       "3     41,368.0  41,499.0  42,203.0  40,915.0  382.84M   -0.33%\n",
       "4     41,503.0  40,809.0  41,746.0  40,585.0  268.28M    1.72%\n",
       "...        ...       ...       ...       ...      ...      ...\n",
       "3980       8.4       7.4       9.3       7.2   64.05K   13.21%\n",
       "3981       7.4       7.2       7.5       7.0   29.28K    3.78%\n",
       "3982       7.2       6.7       7.4       6.7   35.28K    6.88%\n",
       "3983       6.7       6.1       6.8       6.0   23.87K    9.31%\n",
       "3984       6.1       5.6       6.5       5.6   31.11K    9.48%\n",
       "\n",
       "[3985 rows x 6 columns]"
      ]
     },
     "execution_count": 3,
     "metadata": {},
     "output_type": "execute_result"
    }
   ],
   "source": [
    "df.dropna()\n"
   ]
  },
  {
   "cell_type": "code",
   "execution_count": 4,
   "metadata": {},
   "outputs": [
    {
     "name": "stderr",
     "output_type": "stream",
     "text": [
      "/var/folders/vy/55zch8zs5qd1y2j8sysjjrk80000gn/T/ipykernel_1997/1434400543.py:5: FutureWarning: The default value of regex will change from True to False in a future version. In addition, single character regular expressions will *not* be treated as literal strings when regex=True.\n",
      "  df['Vol.'] = df['Vol.'].str.replace('.', '')\n"
     ]
    },
    {
     "data": {
      "text/html": [
       "<div>\n",
       "<style scoped>\n",
       "    .dataframe tbody tr th:only-of-type {\n",
       "        vertical-align: middle;\n",
       "    }\n",
       "\n",
       "    .dataframe tbody tr th {\n",
       "        vertical-align: top;\n",
       "    }\n",
       "\n",
       "    .dataframe thead th {\n",
       "        text-align: right;\n",
       "    }\n",
       "</style>\n",
       "<table border=\"1\" class=\"dataframe\">\n",
       "  <thead>\n",
       "    <tr style=\"text-align: right;\">\n",
       "      <th></th>\n",
       "      <th>Price</th>\n",
       "      <th>Open</th>\n",
       "      <th>High</th>\n",
       "      <th>Low</th>\n",
       "      <th>Vol.</th>\n",
       "      <th>Change %</th>\n",
       "    </tr>\n",
       "  </thead>\n",
       "  <tbody>\n",
       "    <tr>\n",
       "      <th>0</th>\n",
       "      <td>39649.0</td>\n",
       "      <td>39709.0</td>\n",
       "      <td>39852.0</td>\n",
       "      <td>39291.0</td>\n",
       "      <td>33950000000</td>\n",
       "      <td>-0.15</td>\n",
       "    </tr>\n",
       "    <tr>\n",
       "      <th>1</th>\n",
       "      <td>39709.0</td>\n",
       "      <td>40487.0</td>\n",
       "      <td>40792.0</td>\n",
       "      <td>39200.0</td>\n",
       "      <td>42130000000</td>\n",
       "      <td>-1.91</td>\n",
       "    </tr>\n",
       "    <tr>\n",
       "      <th>2</th>\n",
       "      <td>40482.0</td>\n",
       "      <td>41370.0</td>\n",
       "      <td>42969.0</td>\n",
       "      <td>39793.0</td>\n",
       "      <td>49305000000</td>\n",
       "      <td>-2.14</td>\n",
       "    </tr>\n",
       "    <tr>\n",
       "      <th>3</th>\n",
       "      <td>41368.0</td>\n",
       "      <td>41499.0</td>\n",
       "      <td>42203.0</td>\n",
       "      <td>40915.0</td>\n",
       "      <td>38284000000</td>\n",
       "      <td>-0.33</td>\n",
       "    </tr>\n",
       "    <tr>\n",
       "      <th>4</th>\n",
       "      <td>41503.0</td>\n",
       "      <td>40809.0</td>\n",
       "      <td>41746.0</td>\n",
       "      <td>40585.0</td>\n",
       "      <td>26828000000</td>\n",
       "      <td>1.72</td>\n",
       "    </tr>\n",
       "  </tbody>\n",
       "</table>\n",
       "</div>"
      ],
      "text/plain": [
       "     Price     Open     High      Low         Vol. Change %\n",
       "0  39649.0  39709.0  39852.0  39291.0  33950000000    -0.15\n",
       "1  39709.0  40487.0  40792.0  39200.0  42130000000    -1.91\n",
       "2  40482.0  41370.0  42969.0  39793.0  49305000000    -2.14\n",
       "3  41368.0  41499.0  42203.0  40915.0  38284000000    -0.33\n",
       "4  41503.0  40809.0  41746.0  40585.0  26828000000     1.72"
      ]
     },
     "execution_count": 4,
     "metadata": {},
     "output_type": "execute_result"
    }
   ],
   "source": [
    "df['Vol.'] = df['Vol.'].str.replace('K', '000')\n",
    "df['Vol.'] = df['Vol.'].str.replace('M', '000000')\n",
    "df['Vol.'] = df['Vol.'].str.replace('B', '000000000')\n",
    "df['Vol.'] = df['Vol.'].str.replace(',', '')\n",
    "df['Vol.'] = df['Vol.'].str.replace('.', '')\n",
    "df['Vol.'] = df['Vol.'].str.lstrip('0')\n",
    "df['Vol.'] = df['Vol.'].str.strip()\n",
    "df['Change %'] = df['Change %'].str.replace('%', '')\n",
    "df['Change %'] = df['Change %'].str.strip()\n",
    "df['Change %'] = df['Change %'].str.replace(',', '')\n",
    "df['High'] = df['High'].str.replace(',', '')\n",
    "df['High'] = df['High'].str.strip()\n",
    "df['Low'] = df['Low'].str.strip()\n",
    "df['Low'] = df['Low'].str.replace(',', '')\n",
    "df['Price'] = df['Price'].str.strip()\n",
    "df['Price'] = df['Price'].str.replace(',', '')\n",
    "df['Open'] = df['Open'].str.strip()\n",
    "df['Open'] = df['Open'].str.replace(',', '')\n",
    "\n",
    "df.head()"
   ]
  },
  {
   "cell_type": "code",
   "execution_count": 5,
   "metadata": {},
   "outputs": [
    {
     "data": {
      "text/plain": [
       "numpy.float32"
      ]
     },
     "execution_count": 5,
     "metadata": {},
     "output_type": "execute_result"
    }
   ],
   "source": [
    "df = df.astype('float32')\n",
    "type(df.iloc[2, 2])"
   ]
  },
  {
   "cell_type": "code",
   "execution_count": 6,
   "metadata": {},
   "outputs": [
    {
     "data": {
      "text/plain": [
       "(3485, 6)"
      ]
     },
     "execution_count": 6,
     "metadata": {},
     "output_type": "execute_result"
    }
   ],
   "source": [
    "# Normalizing data.\n",
    "normalization_list = []\n",
    "\n",
    "for column in df.columns:\n",
    "    normalization_list.append([column, df[column].max()])\n",
    "    df[column] = df[column] / df[column].max()\n",
    "\n",
    "\n",
    "df = df.iloc[::-1]\n",
    "df = df.iloc[500:, :]\n",
    "df.shape"
   ]
  },
  {
   "cell_type": "code",
   "execution_count": 7,
   "metadata": {},
   "outputs": [],
   "source": [
    "# Creating input array for lstm layers.\n",
    "NUMBEROFDAYSFORDATA = 97\n",
    "\n",
    "btc_data_array = np.zeros((df.shape[0] - 96, NUMBEROFDAYSFORDATA, df.shape[1]))\n",
    "\n",
    "\n",
    "for row in range(btc_data_array.shape[0]):\n",
    "\n",
    "    for column in range(btc_data_array.shape[1]):\n",
    "\n",
    "        for feature in range(btc_data_array.shape[2]):\n",
    "            \n",
    "            btc_data_array[row, column, feature] = df.iloc[column + row, feature]"
   ]
  },
  {
   "cell_type": "code",
   "execution_count": 8,
   "metadata": {},
   "outputs": [],
   "source": [
    "from sklearn.model_selection import train_test_split\n",
    "\n",
    "# Splitting data into test train and validation. + shuffle.\n",
    "test_datas = btc_data_array[:-30:-1, :, :]\n",
    "\n",
    "btc_data_array = btc_data_array[:-30, :, :]\n",
    "\n",
    "\n",
    "np.random.shuffle(btc_data_array)\n",
    "\n",
    "X = btc_data_array[:, :90, :]\n",
    "\n",
    "y = btc_data_array[:, 90:, 0]\n",
    "\n",
    "X_train, X_validation, y_train, y_validation = train_test_split(X, y, test_size=0.2, random_state=8)\n"
   ]
  },
  {
   "cell_type": "code",
   "execution_count": 12,
   "metadata": {},
   "outputs": [],
   "source": [
    "# Defining a function for creating model with hyperparameters.\n",
    "def create_btc_model(hp):\n",
    "\n",
    "    model = Sequential()\n",
    "\n",
    "    hp_units_first = hp.Int('units_first_hidden', min_value=32, max_value=80, step=16)\n",
    "    hp_units_second = hp.Int('units_second_hidden', min_value=32, max_value=80, step=16)\n",
    "    hp_units_third = hp.Int('units_third_hidden', min_value=32, max_value=80, step=16)\n",
    "    hp_drop_rate = hp.Float('rate', min_value=0.4, max_value=0.6, step=0.1)\n",
    "    hp_recurrent_drop_rate = hp.Float('recurrent_rate', min_value=0.3, max_value=0.6, step=0.1)\n",
    "\n",
    "    model.add(LSTM(units=hp_units_first, input_shape=(90, 6), activation='relu', return_sequences=True, recurrent_dropout=hp_recurrent_drop_rate))\n",
    "    model.add(Dropout(hp_drop_rate))\n",
    "    model.add(LSTM(units=hp_units_second, activation='relu', return_sequences=True, recurrent_dropout=hp_recurrent_drop_rate))\n",
    "    model.add(Dropout(hp_drop_rate))\n",
    "    model.add(LSTM(units=hp_units_third, activation='relu', recurrent_dropout=hp_recurrent_drop_rate))\n",
    "    model.add(Dropout(hp_drop_rate))\n",
    "    model.add(Dense(7, activation='relu'))\n",
    "\n",
    "    model.compile(optimizer=SGD(learning_rate=0.01, momentum=0.9), loss='mean_squared_error', metrics=['mean_absolute_percentage_error'])\n",
    "\n",
    "    return model\n",
    "\n"
   ]
  },
  {
   "cell_type": "code",
   "execution_count": 17,
   "metadata": {},
   "outputs": [
    {
     "name": "stdout",
     "output_type": "stream",
     "text": [
      "INFO:tensorflow:Reloading Oracle from existing project my_tuner/intro_to_kt/oracle.json\n",
      "INFO:tensorflow:Reloading Tuner from my_tuner/intro_to_kt/tuner0.json\n"
     ]
    }
   ],
   "source": [
    "# Creating a tuner(RandomSearch) for model.\n",
    "tuner = kt.RandomSearch(create_btc_model,\n",
    "                    objective= kt.Objective('val_mean_absolute_percentage_error', 'min'),\n",
    "                    max_trials=5,\n",
    "                    directory='my_tuner',\n",
    "                    project_name='intro_to_kt')"
   ]
  },
  {
   "cell_type": "code",
   "execution_count": 25,
   "metadata": {},
   "outputs": [],
   "source": [
    "# Tuning the model.\n",
    "tuner.search(X_train, y_train, batch_size=32, epochs=50, validation_data=(X_validation, y_validation))"
   ]
  },
  {
   "cell_type": "markdown",
   "metadata": {},
   "source": [
    "NOTE1: Since output consist of 7 elements, this models validation mean absolute percentage error is (243.5 / 7) = %34.78 == Model is too small with 50 epochs."
   ]
  },
  {
   "cell_type": "markdown",
   "metadata": {},
   "source": [
    "NOTE2: It is clear that model is not overfitting, so I'll make it bigger and do one more tuning after this."
   ]
  },
  {
   "cell_type": "code",
   "execution_count": 18,
   "metadata": {},
   "outputs": [],
   "source": [
    "# Getting best hyperparameters and tuning the model.\n",
    "best_hyps = tuner.get_best_hyperparameters()[0]\n",
    "model = create_btc_model(best_hyps)"
   ]
  },
  {
   "cell_type": "code",
   "execution_count": 27,
   "metadata": {},
   "outputs": [
    {
     "name": "stdout",
     "output_type": "stream",
     "text": [
      "Epoch 1/50\n",
      "84/84 [==============================] - 23s 219ms/step - loss: 0.0484 - mean_absolute_percentage_error: 1545.6516 - val_loss: 0.0323 - val_mean_absolute_percentage_error: 1544.0795\n",
      "Epoch 2/50\n",
      "84/84 [==============================] - 19s 230ms/step - loss: 0.0173 - mean_absolute_percentage_error: 1126.6555 - val_loss: 0.0078 - val_mean_absolute_percentage_error: 837.0806\n",
      "Epoch 3/50\n",
      "84/84 [==============================] - 19s 223ms/step - loss: 0.0107 - mean_absolute_percentage_error: 772.8625 - val_loss: 0.0034 - val_mean_absolute_percentage_error: 681.2914\n",
      "Epoch 4/50\n",
      "84/84 [==============================] - 18s 209ms/step - loss: 0.0092 - mean_absolute_percentage_error: 625.3347 - val_loss: 0.0027 - val_mean_absolute_percentage_error: 580.5184\n",
      "Epoch 5/50\n",
      "84/84 [==============================] - 18s 215ms/step - loss: 0.0081 - mean_absolute_percentage_error: 554.9450 - val_loss: 0.0040 - val_mean_absolute_percentage_error: 497.6417\n",
      "Epoch 6/50\n",
      "84/84 [==============================] - 20s 232ms/step - loss: 0.0077 - mean_absolute_percentage_error: 493.3855 - val_loss: 0.0027 - val_mean_absolute_percentage_error: 490.2679\n",
      "Epoch 7/50\n",
      "84/84 [==============================] - 18s 218ms/step - loss: 0.0076 - mean_absolute_percentage_error: 487.2703 - val_loss: 0.0022 - val_mean_absolute_percentage_error: 469.9354\n",
      "Epoch 8/50\n",
      "84/84 [==============================] - 19s 227ms/step - loss: 0.0073 - mean_absolute_percentage_error: 460.8908 - val_loss: 0.0026 - val_mean_absolute_percentage_error: 453.1339\n",
      "Epoch 9/50\n",
      "84/84 [==============================] - 19s 224ms/step - loss: 0.0070 - mean_absolute_percentage_error: 440.5675 - val_loss: 0.0031 - val_mean_absolute_percentage_error: 424.6752\n",
      "Epoch 10/50\n",
      "84/84 [==============================] - 18s 218ms/step - loss: 0.0064 - mean_absolute_percentage_error: 412.3157 - val_loss: 0.0025 - val_mean_absolute_percentage_error: 404.9995\n",
      "Epoch 11/50\n",
      "84/84 [==============================] - 19s 226ms/step - loss: 0.0060 - mean_absolute_percentage_error: 397.1328 - val_loss: 0.0024 - val_mean_absolute_percentage_error: 380.2293\n",
      "Epoch 12/50\n",
      "84/84 [==============================] - 17s 208ms/step - loss: 0.0066 - mean_absolute_percentage_error: 387.5751 - val_loss: 0.0026 - val_mean_absolute_percentage_error: 410.0835\n",
      "Epoch 13/50\n",
      "84/84 [==============================] - 20s 237ms/step - loss: 0.0062 - mean_absolute_percentage_error: 400.4510 - val_loss: 0.0026 - val_mean_absolute_percentage_error: 377.9910\n",
      "Epoch 14/50\n",
      "84/84 [==============================] - 19s 228ms/step - loss: 0.0065 - mean_absolute_percentage_error: 393.3273 - val_loss: 0.0032 - val_mean_absolute_percentage_error: 377.2639\n",
      "Epoch 15/50\n",
      "84/84 [==============================] - 18s 216ms/step - loss: 0.0055 - mean_absolute_percentage_error: 380.3895 - val_loss: 0.0021 - val_mean_absolute_percentage_error: 348.5640\n",
      "Epoch 16/50\n",
      "84/84 [==============================] - 19s 228ms/step - loss: 0.0056 - mean_absolute_percentage_error: 348.8631 - val_loss: 0.0030 - val_mean_absolute_percentage_error: 343.0091\n",
      "Epoch 17/50\n",
      "84/84 [==============================] - 18s 212ms/step - loss: 0.0054 - mean_absolute_percentage_error: 360.2679 - val_loss: 0.0026 - val_mean_absolute_percentage_error: 331.3517\n",
      "Epoch 18/50\n",
      "84/84 [==============================] - 18s 217ms/step - loss: 0.0055 - mean_absolute_percentage_error: 350.2498 - val_loss: 0.0024 - val_mean_absolute_percentage_error: 333.2754\n",
      "Epoch 19/50\n",
      "84/84 [==============================] - 18s 218ms/step - loss: 0.0052 - mean_absolute_percentage_error: 346.2835 - val_loss: 0.0031 - val_mean_absolute_percentage_error: 332.7696\n",
      "Epoch 20/50\n",
      "84/84 [==============================] - 19s 225ms/step - loss: 0.0051 - mean_absolute_percentage_error: 337.6068 - val_loss: 0.0025 - val_mean_absolute_percentage_error: 317.1648\n",
      "Epoch 21/50\n",
      "84/84 [==============================] - 19s 227ms/step - loss: 0.0049 - mean_absolute_percentage_error: 322.8818 - val_loss: 0.0021 - val_mean_absolute_percentage_error: 321.5612\n",
      "Epoch 22/50\n",
      "84/84 [==============================] - 17s 208ms/step - loss: 0.0050 - mean_absolute_percentage_error: 324.8844 - val_loss: 0.0022 - val_mean_absolute_percentage_error: 306.1062\n",
      "Epoch 23/50\n",
      "84/84 [==============================] - 18s 212ms/step - loss: 0.0046 - mean_absolute_percentage_error: 309.4421 - val_loss: 0.0021 - val_mean_absolute_percentage_error: 305.0660\n",
      "Epoch 24/50\n",
      "84/84 [==============================] - 21s 256ms/step - loss: 0.0051 - mean_absolute_percentage_error: 307.9304 - val_loss: 0.0020 - val_mean_absolute_percentage_error: 310.0421\n",
      "Epoch 25/50\n",
      "84/84 [==============================] - 18s 216ms/step - loss: 0.0047 - mean_absolute_percentage_error: 313.5899 - val_loss: 0.0021 - val_mean_absolute_percentage_error: 304.4840\n",
      "Epoch 26/50\n",
      "84/84 [==============================] - 18s 219ms/step - loss: 0.0049 - mean_absolute_percentage_error: 312.1165 - val_loss: 0.0025 - val_mean_absolute_percentage_error: 299.4046\n",
      "Epoch 27/50\n",
      "84/84 [==============================] - 18s 219ms/step - loss: 0.0048 - mean_absolute_percentage_error: 312.0703 - val_loss: 0.0022 - val_mean_absolute_percentage_error: 295.3785\n",
      "Epoch 28/50\n",
      "84/84 [==============================] - 18s 215ms/step - loss: 0.0045 - mean_absolute_percentage_error: 302.5053 - val_loss: 0.0019 - val_mean_absolute_percentage_error: 281.5136\n",
      "Epoch 29/50\n",
      "84/84 [==============================] - 22s 257ms/step - loss: 0.0046 - mean_absolute_percentage_error: 292.5395 - val_loss: 0.0019 - val_mean_absolute_percentage_error: 283.0171\n",
      "Epoch 30/50\n",
      "84/84 [==============================] - 22s 257ms/step - loss: 0.0048 - mean_absolute_percentage_error: 295.0277 - val_loss: 0.0030 - val_mean_absolute_percentage_error: 287.4605\n",
      "Epoch 31/50\n",
      "84/84 [==============================] - 18s 212ms/step - loss: 0.0046 - mean_absolute_percentage_error: 302.3463 - val_loss: 0.0021 - val_mean_absolute_percentage_error: 292.6407\n",
      "Epoch 32/50\n",
      "84/84 [==============================] - 19s 228ms/step - loss: 0.0042 - mean_absolute_percentage_error: 282.9693 - val_loss: 0.0019 - val_mean_absolute_percentage_error: 285.4985\n",
      "Epoch 33/50\n",
      "84/84 [==============================] - 21s 251ms/step - loss: 0.0044 - mean_absolute_percentage_error: 282.9738 - val_loss: 0.0019 - val_mean_absolute_percentage_error: 281.8409\n",
      "Epoch 34/50\n",
      "84/84 [==============================] - 20s 236ms/step - loss: 0.0045 - mean_absolute_percentage_error: 293.2254 - val_loss: 0.0020 - val_mean_absolute_percentage_error: 271.5844\n",
      "Epoch 35/50\n",
      "84/84 [==============================] - 19s 226ms/step - loss: 0.0044 - mean_absolute_percentage_error: 277.7853 - val_loss: 0.0018 - val_mean_absolute_percentage_error: 280.3102\n",
      "Epoch 36/50\n",
      "84/84 [==============================] - 19s 221ms/step - loss: 0.0048 - mean_absolute_percentage_error: 287.5898 - val_loss: 0.0018 - val_mean_absolute_percentage_error: 289.3839\n",
      "Epoch 37/50\n",
      "84/84 [==============================] - 18s 219ms/step - loss: 0.0043 - mean_absolute_percentage_error: 297.3549 - val_loss: 0.0017 - val_mean_absolute_percentage_error: 297.0578\n",
      "Epoch 38/50\n",
      "84/84 [==============================] - 18s 213ms/step - loss: 0.0042 - mean_absolute_percentage_error: 288.2838 - val_loss: 0.0020 - val_mean_absolute_percentage_error: 274.8855\n",
      "Epoch 39/50\n",
      "84/84 [==============================] - 19s 225ms/step - loss: 0.0043 - mean_absolute_percentage_error: 281.9321 - val_loss: 0.0018 - val_mean_absolute_percentage_error: 275.1712\n",
      "Epoch 40/50\n",
      "84/84 [==============================] - 20s 237ms/step - loss: 0.0049 - mean_absolute_percentage_error: 279.2142 - val_loss: 0.0015 - val_mean_absolute_percentage_error: 286.0125\n",
      "Epoch 41/50\n",
      "84/84 [==============================] - 19s 226ms/step - loss: 0.0041 - mean_absolute_percentage_error: 285.2002 - val_loss: 0.0025 - val_mean_absolute_percentage_error: 271.8292\n",
      "Epoch 42/50\n",
      "84/84 [==============================] - 18s 212ms/step - loss: 0.0043 - mean_absolute_percentage_error: 282.3175 - val_loss: 0.0018 - val_mean_absolute_percentage_error: 267.9754\n",
      "Epoch 43/50\n",
      "84/84 [==============================] - 19s 231ms/step - loss: 0.0042 - mean_absolute_percentage_error: 270.4604 - val_loss: 0.0028 - val_mean_absolute_percentage_error: 253.0336\n",
      "Epoch 44/50\n",
      "84/84 [==============================] - 19s 225ms/step - loss: 0.0042 - mean_absolute_percentage_error: 274.2069 - val_loss: 0.0020 - val_mean_absolute_percentage_error: 260.1006\n",
      "Epoch 45/50\n",
      "84/84 [==============================] - 20s 244ms/step - loss: 0.0043 - mean_absolute_percentage_error: 271.5975 - val_loss: 0.0022 - val_mean_absolute_percentage_error: 264.6633\n",
      "Epoch 46/50\n",
      "84/84 [==============================] - 19s 222ms/step - loss: 0.0044 - mean_absolute_percentage_error: 277.3397 - val_loss: 0.0026 - val_mean_absolute_percentage_error: 257.7027\n",
      "Epoch 47/50\n",
      "84/84 [==============================] - 20s 238ms/step - loss: 0.0043 - mean_absolute_percentage_error: 277.5461 - val_loss: 0.0017 - val_mean_absolute_percentage_error: 272.7265\n",
      "Epoch 48/50\n",
      "84/84 [==============================] - 18s 215ms/step - loss: 0.0040 - mean_absolute_percentage_error: 272.8511 - val_loss: 0.0020 - val_mean_absolute_percentage_error: 257.1731\n",
      "Epoch 49/50\n",
      "84/84 [==============================] - 21s 247ms/step - loss: 0.0042 - mean_absolute_percentage_error: 266.4074 - val_loss: 0.0016 - val_mean_absolute_percentage_error: 271.2231\n",
      "Epoch 50/50\n",
      "84/84 [==============================] - 21s 255ms/step - loss: 0.0041 - mean_absolute_percentage_error: 256.5612 - val_loss: 0.0022 - val_mean_absolute_percentage_error: 243.5463\n"
     ]
    }
   ],
   "source": [
    "# Training the best model.\n",
    "history = model.fit(x=X_train, y=y_train, epochs=50, validation_data=(X_validation, y_validation))"
   ]
  },
  {
   "cell_type": "code",
   "execution_count": 19,
   "metadata": {},
   "outputs": [],
   "source": [
    "# Prediction and renormalization.\n",
    "evaluation_data = np.copy(test_datas[:, 90:, 0]) * normalization_list[0][1]\n",
    "\n",
    "predictions = model.predict(test_datas[:, :90, :])\n",
    "\n",
    "predictions = predictions * normalization_list[0][1]\n"
   ]
  },
  {
   "cell_type": "code",
   "execution_count": 29,
   "metadata": {},
   "outputs": [
    {
     "data": {
      "text/html": [
       "<div>\n",
       "<style scoped>\n",
       "    .dataframe tbody tr th:only-of-type {\n",
       "        vertical-align: middle;\n",
       "    }\n",
       "\n",
       "    .dataframe tbody tr th {\n",
       "        vertical-align: top;\n",
       "    }\n",
       "\n",
       "    .dataframe thead th {\n",
       "        text-align: right;\n",
       "    }\n",
       "</style>\n",
       "<table border=\"1\" class=\"dataframe\">\n",
       "  <thead>\n",
       "    <tr style=\"text-align: right;\">\n",
       "      <th></th>\n",
       "      <th>predictions</th>\n",
       "      <th>real</th>\n",
       "    </tr>\n",
       "  </thead>\n",
       "  <tbody>\n",
       "    <tr>\n",
       "      <th>0</th>\n",
       "      <td>39150.003906</td>\n",
       "      <td>39702.999119</td>\n",
       "    </tr>\n",
       "    <tr>\n",
       "      <th>1</th>\n",
       "      <td>38677.531250</td>\n",
       "      <td>40803.001019</td>\n",
       "    </tr>\n",
       "    <tr>\n",
       "      <th>2</th>\n",
       "      <td>39350.906250</td>\n",
       "      <td>41503.000764</td>\n",
       "    </tr>\n",
       "    <tr>\n",
       "      <th>3</th>\n",
       "      <td>40132.949219</td>\n",
       "      <td>41367.999031</td>\n",
       "    </tr>\n",
       "    <tr>\n",
       "      <th>4</th>\n",
       "      <td>39706.386719</td>\n",
       "      <td>40482.001101</td>\n",
       "    </tr>\n",
       "    <tr>\n",
       "      <th>5</th>\n",
       "      <td>39270.929688</td>\n",
       "      <td>39709.000359</td>\n",
       "    </tr>\n",
       "    <tr>\n",
       "      <th>6</th>\n",
       "      <td>36916.640625</td>\n",
       "      <td>39649.000036</td>\n",
       "    </tr>\n",
       "  </tbody>\n",
       "</table>\n",
       "</div>"
      ],
      "text/plain": [
       "    predictions          real\n",
       "0  39150.003906  39702.999119\n",
       "1  38677.531250  40803.001019\n",
       "2  39350.906250  41503.000764\n",
       "3  40132.949219  41367.999031\n",
       "4  39706.386719  40482.001101\n",
       "5  39270.929688  39709.000359\n",
       "6  36916.640625  39649.000036"
      ]
     },
     "execution_count": 29,
     "metadata": {},
     "output_type": "execute_result"
    }
   ],
   "source": [
    "# Analyzing predictions.\n",
    "data = {'predictions' : predictions[0], 'real' : evaluation_data[0]}\n",
    "df_eval_1 = pd.DataFrame(data=data)\n",
    "df_eval_1"
   ]
  },
  {
   "cell_type": "code",
   "execution_count": 31,
   "metadata": {},
   "outputs": [
    {
     "data": {
      "text/html": [
       "<div>\n",
       "<style scoped>\n",
       "    .dataframe tbody tr th:only-of-type {\n",
       "        vertical-align: middle;\n",
       "    }\n",
       "\n",
       "    .dataframe tbody tr th {\n",
       "        vertical-align: top;\n",
       "    }\n",
       "\n",
       "    .dataframe thead th {\n",
       "        text-align: right;\n",
       "    }\n",
       "</style>\n",
       "<table border=\"1\" class=\"dataframe\">\n",
       "  <thead>\n",
       "    <tr style=\"text-align: right;\">\n",
       "      <th></th>\n",
       "      <th>predictions</th>\n",
       "      <th>real</th>\n",
       "    </tr>\n",
       "  </thead>\n",
       "  <tbody>\n",
       "    <tr>\n",
       "      <th>0</th>\n",
       "      <td>40653.695312</td>\n",
       "      <td>43447.998160</td>\n",
       "    </tr>\n",
       "    <tr>\n",
       "      <th>1</th>\n",
       "      <td>39905.664062</td>\n",
       "      <td>42274.999288</td>\n",
       "    </tr>\n",
       "    <tr>\n",
       "      <th>2</th>\n",
       "      <td>40553.777344</td>\n",
       "      <td>42767.000328</td>\n",
       "    </tr>\n",
       "    <tr>\n",
       "      <th>3</th>\n",
       "      <td>41436.421875</td>\n",
       "      <td>42138.001166</td>\n",
       "    </tr>\n",
       "    <tr>\n",
       "      <th>4</th>\n",
       "      <td>40964.253906</td>\n",
       "      <td>39497.000827</td>\n",
       "    </tr>\n",
       "    <tr>\n",
       "      <th>5</th>\n",
       "      <td>40537.445312</td>\n",
       "      <td>40077.998120</td>\n",
       "    </tr>\n",
       "    <tr>\n",
       "      <th>6</th>\n",
       "      <td>38088.804688</td>\n",
       "      <td>41133.000784</td>\n",
       "    </tr>\n",
       "  </tbody>\n",
       "</table>\n",
       "</div>"
      ],
      "text/plain": [
       "    predictions          real\n",
       "0  40653.695312  43447.998160\n",
       "1  39905.664062  42274.999288\n",
       "2  40553.777344  42767.000328\n",
       "3  41436.421875  42138.001166\n",
       "4  40964.253906  39497.000827\n",
       "5  40537.445312  40077.998120\n",
       "6  38088.804688  41133.000784"
      ]
     },
     "execution_count": 31,
     "metadata": {},
     "output_type": "execute_result"
    }
   ],
   "source": [
    "data = {'predictions' : predictions[10], 'real' : evaluation_data[10]}\n",
    "df_eval_2 = pd.DataFrame(data=data)\n",
    "df_eval_2"
   ]
  },
  {
   "cell_type": "code",
   "execution_count": 33,
   "metadata": {},
   "outputs": [
    {
     "name": "stderr",
     "output_type": "stream",
     "text": [
      "/var/folders/vy/55zch8zs5qd1y2j8sysjjrk80000gn/T/ipykernel_90914/4164667183.py:8: UserWarning: color is redundantly defined by the 'color' keyword argument and the fmt string \"b\" (-> color=(0.0, 0.0, 1.0, 1)). The keyword argument will take precedence.\n",
      "  plt.plot(epochs, loss_values, 'b', label='Training Loss', color='red')\n"
     ]
    },
    {
     "data": {
      "image/png": "[encoded data removed]",
      "text/plain": [
       "<Figure size 432x288 with 1 Axes>"
      ]
     },
     "metadata": {
      "needs_background": "light"
     },
     "output_type": "display_data"
    }
   ],
   "source": [
    "import matplotlib.pyplot as plt\n",
    "\n",
    "\n",
    "history_dict = history.history\n",
    "loss_values = history_dict['loss']\n",
    "val_loss_values = history_dict['val_loss']\n",
    "epochs = range(1, len(loss_values) + 1)\n",
    "plt.plot(epochs, loss_values, 'b', label='Training Loss', color='red')\n",
    "plt.plot(epochs, val_loss_values, 'b', label='Validation Loss')\n",
    "plt.title('Training and Validation Loss')\n",
    "plt.xlabel('Epochs')\n",
    "plt.ylabel('Loss')\n",
    "plt.legend()\n",
    "plt.show()"
   ]
  },
  {
   "cell_type": "code",
   "execution_count": 35,
   "metadata": {},
   "outputs": [
    {
     "name": "stderr",
     "output_type": "stream",
     "text": [
      "/var/folders/vy/55zch8zs5qd1y2j8sysjjrk80000gn/T/ipykernel_90914/1103801428.py:4: UserWarning: color is redundantly defined by the 'color' keyword argument and the fmt string \"b\" (-> color=(0.0, 0.0, 1.0, 1)). The keyword argument will take precedence.\n",
      "  plt.plot(epochs, mean_abs_values, 'b', label='Mean Absolute Error', color='red')\n"
     ]
    },
    {
     "data": {
      "image/png": "[encoded data removed]",
      "text/plain": [
       "<Figure size 432x288 with 1 Axes>"
      ]
     },
     "metadata": {
      "needs_background": "light"
     },
     "output_type": "display_data"
    }
   ],
   "source": [
    "mean_abs_values = history_dict['mean_absolute_percentage_error']\n",
    "val_mean_values = history_dict['val_mean_absolute_percentage_error']\n",
    "plt.plot(epochs, mean_abs_values, 'b', label='Mean Absolute Error', color='red')\n",
    "plt.plot(epochs, val_mean_values, 'b', label='Validation Mean Absolute Percentage Error')\n",
    "plt.title('Training and Validation Absolute Percentage Error')\n",
    "plt.xlabel('Epochs')\n",
    "plt.ylabel('Error')\n",
    "plt.legend()\n",
    "plt.show()"
   ]
  },
  {
   "cell_type": "code",
   "execution_count": 38,
   "metadata": {},
   "outputs": [
    {
     "name": "stderr",
     "output_type": "stream",
     "text": [
      "/var/folders/vy/55zch8zs5qd1y2j8sysjjrk80000gn/T/ipykernel_90914/1711494966.py:6: UserWarning: color is redundantly defined by the 'color' keyword argument and the fmt string \"b\" (-> color=(0.0, 0.0, 1.0, 1)). The keyword argument will take precedence.\n",
      "  graph1.plot(epochs, loss_values, 'b', label='Training Loss', color='red')\n",
      "/var/folders/vy/55zch8zs5qd1y2j8sysjjrk80000gn/T/ipykernel_90914/1711494966.py:11: UserWarning: color is redundantly defined by the 'color' keyword argument and the fmt string \"b\" (-> color=(0.0, 0.0, 1.0, 1)). The keyword argument will take precedence.\n",
      "  graph2.plot(epochs, mean_abs_values, 'b', label='Mean Absolute Error', color='red')\n"
     ]
    },
    {
     "data": {
      "text/plain": [
       "<matplotlib.legend.Legend at 0x135973220>"
      ]
     },
     "execution_count": 38,
     "metadata": {},
     "output_type": "execute_result"
    },
    {
     "data": {
      "image/png": "[encoded data removed]",
      "text/plain": [
       "<Figure size 432x288 with 2 Axes>"
      ]
     },
     "metadata": {
      "needs_background": "light"
     },
     "output_type": "display_data"
    }
   ],
   "source": [
    "fig = plt.figure()\n",
    "\n",
    "graph1 = fig.add_subplot(2, 1, 1)\n",
    "graph2 = fig.add_subplot(2, 1, 2)\n",
    "\n",
    "graph1.plot(epochs, loss_values, 'b', label='Training Loss', color='red')\n",
    "graph1.plot(epochs, val_loss_values, 'b', label='Validation Loss')\n",
    "\n",
    "graph1.legend(loc='best')\n",
    "graph2.plot(epochs, mean_abs_values, 'b', label='Mean Absolute Error', color='red')\n",
    "graph2.plot(epochs, val_mean_values, 'b', label='Validation Mean Absolute Percentage Error')\n",
    "\n",
    "graph2.legend(loc='best')\n"
   ]
  },
  {
   "cell_type": "markdown",
   "metadata": {},
   "source": [
    "NOTE3: Since model is not overfitting, I will add more units in layers and change optimizer to adam."
   ]
  },
  {
   "cell_type": "code",
   "execution_count": 9,
   "metadata": {},
   "outputs": [],
   "source": [
    "from tensorflow.keras.optimizers import Adam"
   ]
  },
  {
   "cell_type": "code",
   "execution_count": 10,
   "metadata": {},
   "outputs": [],
   "source": [
    "# Defining a function for creating new model with increased capacity.\n",
    "def create_btc_model_increased(hp):\n",
    "    \n",
    "    model = Sequential()\n",
    "\n",
    "    hp_units_first = hp.Int('units_first_hidden', min_value=192, max_value=224, step=16)\n",
    "    hp_units_second = hp.Int('units_second_hidden', min_value=160, max_value=192, step=16)\n",
    "    hp_units_third = hp.Int('units_third_hidden', min_value=32, max_value=128, step=16)\n",
    "\n",
    "    hp_drop_rate = hp.Float('rate', min_value=0.4, max_value=0.6, step=0.1)\n",
    "    hp_recurrent_drop_rate = hp.Float('recurrent_rate', min_value=0.3, max_value=0.6, step=0.1)\n",
    "\n",
    "    model.add(LSTM(units=hp_units_first, input_shape=(90, 6), activation='relu', return_sequences=True, recurrent_dropout=hp_recurrent_drop_rate))\n",
    "    model.add(Dropout(hp_drop_rate))\n",
    "    model.add(LSTM(units=hp_units_second, activation='relu', return_sequences=True, recurrent_dropout=hp_recurrent_drop_rate))\n",
    "    model.add(Dropout(hp_drop_rate))\n",
    "    model.add(LSTM(units=hp_units_third, activation='relu', recurrent_dropout=hp_recurrent_drop_rate))\n",
    "    model.add(Dropout(hp_drop_rate))\n",
    "    model.add(Dense(7, activation='relu'))\n",
    "\n",
    "    model.compile(optimizer=Adam(learning_rate=0.0005), loss='mean_squared_error', metrics=['mean_absolute_percentage_error'])\n",
    "\n",
    "    return model"
   ]
  },
  {
   "cell_type": "code",
   "execution_count": 11,
   "metadata": {},
   "outputs": [
    {
     "name": "stdout",
     "output_type": "stream",
     "text": [
      "INFO:tensorflow:Reloading Oracle from existing project my_tuner/btc_model_tune_increased/oracle.json\n"
     ]
    },
    {
     "name": "stderr",
     "output_type": "stream",
     "text": [
      "2022-05-07 14:08:43.934195: I tensorflow/core/platform/cpu_feature_guard.cc:151] This TensorFlow binary is optimized with oneAPI Deep Neural Network Library (oneDNN) to use the following CPU instructions in performance-critical operations:  AVX2 FMA\n",
      "To enable them in other operations, rebuild TensorFlow with the appropriate compiler flags.\n"
     ]
    },
    {
     "name": "stdout",
     "output_type": "stream",
     "text": [
      "INFO:tensorflow:Reloading Tuner from my_tuner/btc_model_tune_increased/tuner0.json\n"
     ]
    }
   ],
   "source": [
    "# Creating a tuner(RandomSearch) for new model.\n",
    "tuner = kt.RandomSearch(create_btc_model_increased,\n",
    "                    objective= kt.Objective('val_mean_absolute_percentage_error', 'min'),\n",
    "                    max_trials=5,\n",
    "                    directory='my_tuner',\n",
    "                    project_name='btc_model_tune_increased')"
   ]
  },
  {
   "cell_type": "code",
   "execution_count": 40,
   "metadata": {},
   "outputs": [
    {
     "name": "stdout",
     "output_type": "stream",
     "text": [
      "Trial 5 Complete [00h 21m 18s]\n",
      "val_mean_absolute_percentage_error: 55.9479866027832\n",
      "\n",
      "Best val_mean_absolute_percentage_error So Far: 51.9295768737793\n",
      "Total elapsed time: 01h 53m 23s\n",
      "INFO:tensorflow:Oracle triggered exit\n"
     ]
    }
   ],
   "source": [
    "tuner.search(X_train, y_train, batch_size=32, epochs=50, validation_data=(X_validation, y_validation))"
   ]
  },
  {
   "cell_type": "markdown",
   "metadata": {},
   "source": [
    "NOTE4: Validation mean absolute percentage error per element is = %7.4(51.9/7). Which I consider good with 3485 total inputs(limited data)."
   ]
  },
  {
   "cell_type": "code",
   "execution_count": 12,
   "metadata": {},
   "outputs": [],
   "source": [
    "# Creating the new model.\n",
    "best_hyps = tuner.get_best_hyperparameters()[0]\n",
    "model_increased = create_btc_model_increased(best_hyps)"
   ]
  },
  {
   "cell_type": "code",
   "execution_count": 13,
   "metadata": {},
   "outputs": [
    {
     "name": "stdout",
     "output_type": "stream",
     "text": [
      "Epoch 1/50\n",
      "84/84 [==============================] - 31s 321ms/step - loss: 0.0202 - mean_absolute_percentage_error: 487.4854 - val_loss: 0.0033 - val_mean_absolute_percentage_error: 154.0395\n",
      "Epoch 2/50\n",
      "84/84 [==============================] - 27s 326ms/step - loss: 0.0057 - mean_absolute_percentage_error: 129.4487 - val_loss: 0.0018 - val_mean_absolute_percentage_error: 49.3248\n",
      "Epoch 3/50\n",
      "84/84 [==============================] - 27s 316ms/step - loss: 0.0049 - mean_absolute_percentage_error: 92.6484 - val_loss: 0.0018 - val_mean_absolute_percentage_error: 54.2972\n",
      "Epoch 4/50\n",
      "84/84 [==============================] - 27s 318ms/step - loss: 0.0039 - mean_absolute_percentage_error: 78.1848 - val_loss: 0.0013 - val_mean_absolute_percentage_error: 53.5964\n",
      "Epoch 5/50\n",
      "84/84 [==============================] - 27s 319ms/step - loss: 0.0036 - mean_absolute_percentage_error: 66.2559 - val_loss: 0.0012 - val_mean_absolute_percentage_error: 55.7019\n",
      "Epoch 6/50\n",
      "84/84 [==============================] - 26s 313ms/step - loss: 0.0032 - mean_absolute_percentage_error: 60.7740 - val_loss: 0.0024 - val_mean_absolute_percentage_error: 51.7070\n",
      "Epoch 7/50\n",
      "84/84 [==============================] - 27s 321ms/step - loss: 0.0334 - mean_absolute_percentage_error: 139.9896 - val_loss: 0.0062 - val_mean_absolute_percentage_error: 1282.3777\n",
      "Epoch 8/50\n",
      "84/84 [==============================] - 27s 316ms/step - loss: 0.0044 - mean_absolute_percentage_error: 355.3820 - val_loss: 0.0032 - val_mean_absolute_percentage_error: 154.3216\n",
      "Epoch 9/50\n",
      "84/84 [==============================] - 27s 319ms/step - loss: 0.0030 - mean_absolute_percentage_error: 149.9273 - val_loss: 0.0011 - val_mean_absolute_percentage_error: 106.6576\n",
      "Epoch 10/50\n",
      "84/84 [==============================] - 28s 329ms/step - loss: 0.0031 - mean_absolute_percentage_error: 129.9612 - val_loss: 0.0015 - val_mean_absolute_percentage_error: 53.8042\n",
      "Epoch 11/50\n",
      "84/84 [==============================] - 27s 318ms/step - loss: 0.0029 - mean_absolute_percentage_error: 110.8405 - val_loss: 0.0032 - val_mean_absolute_percentage_error: 54.1897\n",
      "Epoch 12/50\n",
      "84/84 [==============================] - 27s 325ms/step - loss: 0.0027 - mean_absolute_percentage_error: 90.4728 - val_loss: 0.0016 - val_mean_absolute_percentage_error: 52.4810\n",
      "Epoch 13/50\n",
      "84/84 [==============================] - 28s 332ms/step - loss: 0.0025 - mean_absolute_percentage_error: 66.9884 - val_loss: 0.0024 - val_mean_absolute_percentage_error: 56.1521\n",
      "Epoch 14/50\n",
      "84/84 [==============================] - 31s 364ms/step - loss: 0.0024 - mean_absolute_percentage_error: 66.7421 - val_loss: 0.0023 - val_mean_absolute_percentage_error: 52.7283\n",
      "Epoch 15/50\n",
      "84/84 [==============================] - 27s 325ms/step - loss: 0.0023 - mean_absolute_percentage_error: 61.4076 - val_loss: 0.0028 - val_mean_absolute_percentage_error: 56.5637\n",
      "Epoch 16/50\n",
      "84/84 [==============================] - 27s 318ms/step - loss: 0.0028 - mean_absolute_percentage_error: 58.3326 - val_loss: 0.0019 - val_mean_absolute_percentage_error: 52.5746\n",
      "Epoch 17/50\n",
      "84/84 [==============================] - 27s 316ms/step - loss: 0.0022 - mean_absolute_percentage_error: 58.0886 - val_loss: 0.0025 - val_mean_absolute_percentage_error: 56.1828\n",
      "Epoch 18/50\n",
      "84/84 [==============================] - 26s 313ms/step - loss: 0.0024 - mean_absolute_percentage_error: 85.1333 - val_loss: 0.0010 - val_mean_absolute_percentage_error: 54.9556\n",
      "Epoch 19/50\n",
      "84/84 [==============================] - 26s 311ms/step - loss: 0.0022 - mean_absolute_percentage_error: 80.3436 - val_loss: 0.0014 - val_mean_absolute_percentage_error: 55.6832\n",
      "Epoch 20/50\n",
      "84/84 [==============================] - 26s 312ms/step - loss: 0.0021 - mean_absolute_percentage_error: 62.6162 - val_loss: 8.9444e-04 - val_mean_absolute_percentage_error: 53.7678\n",
      "Epoch 21/50\n",
      "84/84 [==============================] - 26s 313ms/step - loss: 0.0021 - mean_absolute_percentage_error: 59.5153 - val_loss: 0.0018 - val_mean_absolute_percentage_error: 53.6879\n",
      "Epoch 22/50\n",
      "84/84 [==============================] - 26s 311ms/step - loss: 0.0020 - mean_absolute_percentage_error: 61.7089 - val_loss: 9.2973e-04 - val_mean_absolute_percentage_error: 53.4727\n",
      "Epoch 23/50\n",
      "84/84 [==============================] - 26s 311ms/step - loss: 0.0021 - mean_absolute_percentage_error: 59.4160 - val_loss: 0.0014 - val_mean_absolute_percentage_error: 53.5856\n",
      "Epoch 24/50\n",
      "84/84 [==============================] - 29s 342ms/step - loss: 0.0020 - mean_absolute_percentage_error: 57.5060 - val_loss: 0.0011 - val_mean_absolute_percentage_error: 53.5316\n",
      "Epoch 25/50\n",
      "84/84 [==============================] - 27s 319ms/step - loss: 0.0020 - mean_absolute_percentage_error: 56.9343 - val_loss: 8.1636e-04 - val_mean_absolute_percentage_error: 53.0134\n",
      "Epoch 26/50\n",
      "84/84 [==============================] - 27s 316ms/step - loss: 0.0020 - mean_absolute_percentage_error: 57.6985 - val_loss: 0.0013 - val_mean_absolute_percentage_error: 53.8853\n",
      "Epoch 27/50\n",
      "84/84 [==============================] - 27s 324ms/step - loss: 0.0019 - mean_absolute_percentage_error: 56.7022 - val_loss: 0.0014 - val_mean_absolute_percentage_error: 55.0760\n",
      "Epoch 28/50\n",
      "84/84 [==============================] - 27s 324ms/step - loss: 0.0020 - mean_absolute_percentage_error: 58.2171 - val_loss: 0.0011 - val_mean_absolute_percentage_error: 54.5248\n",
      "Epoch 29/50\n",
      "84/84 [==============================] - 28s 338ms/step - loss: 0.0017 - mean_absolute_percentage_error: 55.2898 - val_loss: 0.0013 - val_mean_absolute_percentage_error: 54.2015\n",
      "Epoch 30/50\n",
      "84/84 [==============================] - 27s 324ms/step - loss: 0.0027 - mean_absolute_percentage_error: 159.5715 - val_loss: 0.0019 - val_mean_absolute_percentage_error: 59.7584\n",
      "Epoch 31/50\n",
      "84/84 [==============================] - 26s 315ms/step - loss: 0.0021 - mean_absolute_percentage_error: 112.2989 - val_loss: 0.0010 - val_mean_absolute_percentage_error: 58.5452\n",
      "Epoch 32/50\n",
      "84/84 [==============================] - 27s 321ms/step - loss: 0.0019 - mean_absolute_percentage_error: 102.7917 - val_loss: 9.2858e-04 - val_mean_absolute_percentage_error: 56.5267\n",
      "Epoch 33/50\n",
      "84/84 [==============================] - 31s 371ms/step - loss: 0.0017 - mean_absolute_percentage_error: 71.4034 - val_loss: 0.0012 - val_mean_absolute_percentage_error: 57.1181\n",
      "Epoch 34/50\n",
      "84/84 [==============================] - 28s 331ms/step - loss: 0.0018 - mean_absolute_percentage_error: 64.1849 - val_loss: 0.0016 - val_mean_absolute_percentage_error: 57.6669\n",
      "Epoch 35/50\n",
      "84/84 [==============================] - 28s 335ms/step - loss: 0.0020 - mean_absolute_percentage_error: 65.1271 - val_loss: 0.0011 - val_mean_absolute_percentage_error: 56.5045\n",
      "Epoch 36/50\n",
      "84/84 [==============================] - 28s 329ms/step - loss: 0.0018 - mean_absolute_percentage_error: 61.7533 - val_loss: 0.0017 - val_mean_absolute_percentage_error: 56.5511\n",
      "Epoch 37/50\n",
      "84/84 [==============================] - 28s 334ms/step - loss: 0.0019 - mean_absolute_percentage_error: 58.1285 - val_loss: 0.0022 - val_mean_absolute_percentage_error: 59.8758\n",
      "Epoch 38/50\n",
      "84/84 [==============================] - 31s 370ms/step - loss: 0.4911 - mean_absolute_percentage_error: 364.6283 - val_loss: 0.0082 - val_mean_absolute_percentage_error: 1486.1641\n",
      "Epoch 39/50\n",
      "84/84 [==============================] - 29s 350ms/step - loss: 0.0121 - mean_absolute_percentage_error: 804.9237 - val_loss: 0.0020 - val_mean_absolute_percentage_error: 66.0606\n",
      "Epoch 40/50\n",
      "84/84 [==============================] - 29s 340ms/step - loss: 0.0032 - mean_absolute_percentage_error: 117.8581 - val_loss: 0.0013 - val_mean_absolute_percentage_error: 59.8112\n",
      "Epoch 41/50\n",
      "84/84 [==============================] - 31s 368ms/step - loss: 0.0025 - mean_absolute_percentage_error: 86.3786 - val_loss: 0.0021 - val_mean_absolute_percentage_error: 58.8775\n",
      "Epoch 42/50\n",
      "84/84 [==============================] - 32s 373ms/step - loss: 0.0024 - mean_absolute_percentage_error: 66.2146 - val_loss: 0.0011 - val_mean_absolute_percentage_error: 54.5818\n",
      "Epoch 43/50\n",
      "84/84 [==============================] - 47s 562ms/step - loss: 0.0025 - mean_absolute_percentage_error: 63.9270 - val_loss: 0.0011 - val_mean_absolute_percentage_error: 54.9458\n",
      "Epoch 44/50\n",
      "84/84 [==============================] - 100s 1s/step - loss: 20.7800 - mean_absolute_percentage_error: 747.3027 - val_loss: 0.0068 - val_mean_absolute_percentage_error: 1255.2761\n",
      "Epoch 45/50\n",
      "84/84 [==============================] - 206s 2s/step - loss: 0.0066 - mean_absolute_percentage_error: 773.9296 - val_loss: 0.0022 - val_mean_absolute_percentage_error: 453.3474\n",
      "Epoch 46/50\n",
      "84/84 [==============================] - 55s 655ms/step - loss: 0.0035 - mean_absolute_percentage_error: 301.5060 - val_loss: 0.0030 - val_mean_absolute_percentage_error: 70.7524\n",
      "Epoch 47/50\n",
      "84/84 [==============================] - 65s 771ms/step - loss: 0.0033 - mean_absolute_percentage_error: 155.9417 - val_loss: 0.0025 - val_mean_absolute_percentage_error: 66.9404\n",
      "Epoch 48/50\n",
      "84/84 [==============================] - 57s 683ms/step - loss: 0.0027 - mean_absolute_percentage_error: 108.5503 - val_loss: 0.0022 - val_mean_absolute_percentage_error: 66.9415\n",
      "Epoch 49/50\n",
      "84/84 [==============================] - 65s 776ms/step - loss: 0.0025 - mean_absolute_percentage_error: 91.8114 - val_loss: 0.0018 - val_mean_absolute_percentage_error: 62.6241\n",
      "Epoch 50/50\n",
      "84/84 [==============================] - 29s 343ms/step - loss: 0.0031 - mean_absolute_percentage_error: 313.3244 - val_loss: 0.0021 - val_mean_absolute_percentage_error: 59.3670\n"
     ]
    }
   ],
   "source": [
    "history = model_increased.fit(x=X_train, y=y_train, epochs=50, validation_data=(X_validation, y_validation))"
   ]
  },
  {
   "cell_type": "code",
   "execution_count": 14,
   "metadata": {},
   "outputs": [
    {
     "name": "stdout",
     "output_type": "stream",
     "text": [
      "1/1 [==============================] - 1s 958ms/step - loss: 0.0052 - mean_absolute_percentage_error: 8.5262\n"
     ]
    }
   ],
   "source": [
    "# Analyzing the new model.\n",
    "evaluation_increased = model_increased.evaluate(test_datas[:, :90, :], test_datas[:, 90:, 0])"
   ]
  },
  {
   "cell_type": "code",
   "execution_count": 15,
   "metadata": {},
   "outputs": [],
   "source": [
    "history_dict_increased = history.history\n",
    "loss_values_increased = history_dict_increased['loss']\n",
    "val_loss_values_increased = history_dict_increased['val_loss']\n",
    "epochs_increased = range(1, len(loss_values_increased) + 1)\n",
    "mean_abs_values_increased = history_dict_increased['mean_absolute_percentage_error']\n",
    "val_mean_values_increased = history_dict_increased['val_mean_absolute_percentage_error']"
   ]
  },
  {
   "cell_type": "code",
   "execution_count": 17,
   "metadata": {},
   "outputs": [
    {
     "name": "stderr",
     "output_type": "stream",
     "text": [
      "/var/folders/vy/55zch8zs5qd1y2j8sysjjrk80000gn/T/ipykernel_1997/2040386990.py:7: UserWarning: color is redundantly defined by the 'color' keyword argument and the fmt string \"b\" (-> color=(0.0, 0.0, 1.0, 1)). The keyword argument will take precedence.\n",
      "  graph1.plot(epochs_increased, loss_values_increased, 'b', label='Training Loss', color='red')\n",
      "/var/folders/vy/55zch8zs5qd1y2j8sysjjrk80000gn/T/ipykernel_1997/2040386990.py:11: UserWarning: color is redundantly defined by the 'color' keyword argument and the fmt string \"b\" (-> color=(0.0, 0.0, 1.0, 1)). The keyword argument will take precedence.\n",
      "  graph2.plot(epochs_increased, mean_abs_values_increased, 'b', label='Mean Absolute Error', color='red')\n"
     ]
    },
    {
     "data": {
      "text/plain": [
       "<matplotlib.legend.Legend at 0x13186e280>"
      ]
     },
     "execution_count": 17,
     "metadata": {},
     "output_type": "execute_result"
    },
    {
     "data": {
      "image/png": "[encoded data removed]",
      "text/plain": [
       "<Figure size 432x288 with 2 Axes>"
      ]
     },
     "metadata": {
      "needs_background": "light"
     },
     "output_type": "display_data"
    }
   ],
   "source": [
    "fig = plt.figure()\n",
    "\n",
    "graph1 = fig.add_subplot(2, 1, 1)\n",
    "graph2 = fig.add_subplot(2, 1, 2)\n",
    "\n",
    "graph1.plot(epochs_increased, loss_values_increased, 'b', label='Training Loss', color='red')\n",
    "graph1.plot(epochs_increased, val_loss_values_increased, 'b', label='Validation Loss')\n",
    "graph1.legend(loc='best')\n",
    "\n",
    "graph2.plot(epochs_increased, mean_abs_values_increased, 'b', label='Mean Absolute Error', color='red')\n",
    "graph2.plot(epochs_increased, val_mean_values_increased, 'b', label='Validation Mean Absolute Percentage Error')\n",
    "graph2.legend(loc='best')"
   ]
  },
  {
   "cell_type": "code",
   "execution_count": 31,
   "metadata": {},
   "outputs": [
    {
     "data": {
      "text/plain": [
       "5"
      ]
     },
     "execution_count": 31,
     "metadata": {},
     "output_type": "execute_result"
    }
   ],
   "source": [
    "val_mean_values_increased.index(min(val_mean_values_increased[3:]))"
   ]
  },
  {
   "cell_type": "markdown",
   "metadata": {},
   "source": [
    "NOTE5: Increased model overshoots 3 times, after epoch 5, 37 and 43 and finds other or same local minimas, however as we can see min value for validation percentage error is at epoch 5. SO: 5 is best number for epochs."
   ]
  },
  {
   "cell_type": "code",
   "execution_count": 24,
   "metadata": {},
   "outputs": [
    {
     "name": "stderr",
     "output_type": "stream",
     "text": [
      "/var/folders/vy/55zch8zs5qd1y2j8sysjjrk80000gn/T/ipykernel_1997/592049575.py:6: UserWarning: color is redundantly defined by the 'color' keyword argument and the fmt string \"b\" (-> color=(0.0, 0.0, 1.0, 1)). The keyword argument will take precedence.\n",
      "  graph1.plot(epochs_increased[:30], loss_values_increased[:30], 'b', label='Training Loss', color='red')\n",
      "/var/folders/vy/55zch8zs5qd1y2j8sysjjrk80000gn/T/ipykernel_1997/592049575.py:10: UserWarning: color is redundantly defined by the 'color' keyword argument and the fmt string \"b\" (-> color=(0.0, 0.0, 1.0, 1)). The keyword argument will take precedence.\n",
      "  graph2.plot(epochs_increased[:30], mean_abs_values_increased[:30], 'b', label='Mean Absolute Error', color='red')\n"
     ]
    },
    {
     "data": {
      "text/plain": [
       "<matplotlib.legend.Legend at 0x133d76c40>"
      ]
     },
     "execution_count": 24,
     "metadata": {},
     "output_type": "execute_result"
    },
    {
     "data": {
      "image/png": "[encoded data removed]",
      "text/plain": [
       "<Figure size 432x288 with 2 Axes>"
      ]
     },
     "metadata": {
      "needs_background": "light"
     },
     "output_type": "display_data"
    }
   ],
   "source": [
    "fig = plt.figure()\n",
    "\n",
    "graph1 = fig.add_subplot(2, 1, 1)\n",
    "graph2 = fig.add_subplot(2, 1, 2)\n",
    "\n",
    "graph1.plot(epochs_increased[:30], loss_values_increased[:30], 'b', label='Training Loss', color='red')\n",
    "graph1.plot(epochs_increased[:30], val_loss_values_increased[:30], 'b', label='Validation Loss')\n",
    "graph1.legend(loc='best')\n",
    "\n",
    "graph2.plot(epochs_increased[:30], mean_abs_values_increased[:30], 'b', label='Mean Absolute Error', color='red')\n",
    "graph2.plot(epochs_increased[:30], val_mean_values_increased[:30], 'b', label='Validation Mean Absolute Percentage Error')\n",
    "graph2.legend(loc='best')"
   ]
  },
  {
   "cell_type": "code",
   "execution_count": 26,
   "metadata": {},
   "outputs": [],
   "source": [
    "evaluation_data = np.copy(test_datas[:, 90:, 0]) * normalization_list[0][1]\n",
    "\n",
    "predictions_increased = model_increased.predict(test_datas[:, :90, :])\n",
    "\n",
    "predictions_increased = predictions_increased * normalization_list[0][1]"
   ]
  },
  {
   "cell_type": "code",
   "execution_count": 28,
   "metadata": {},
   "outputs": [
    {
     "data": {
      "text/html": [
       "<div>\n",
       "<style scoped>\n",
       "    .dataframe tbody tr th:only-of-type {\n",
       "        vertical-align: middle;\n",
       "    }\n",
       "\n",
       "    .dataframe tbody tr th {\n",
       "        vertical-align: top;\n",
       "    }\n",
       "\n",
       "    .dataframe thead th {\n",
       "        text-align: right;\n",
       "    }\n",
       "</style>\n",
       "<table border=\"1\" class=\"dataframe\">\n",
       "  <thead>\n",
       "    <tr style=\"text-align: right;\">\n",
       "      <th></th>\n",
       "      <th>predictions</th>\n",
       "      <th>real</th>\n",
       "    </tr>\n",
       "  </thead>\n",
       "  <tbody>\n",
       "    <tr>\n",
       "      <th>0</th>\n",
       "      <td>39041.296875</td>\n",
       "      <td>39702.999119</td>\n",
       "    </tr>\n",
       "    <tr>\n",
       "      <th>1</th>\n",
       "      <td>39756.222656</td>\n",
       "      <td>40803.001019</td>\n",
       "    </tr>\n",
       "    <tr>\n",
       "      <th>2</th>\n",
       "      <td>38870.429688</td>\n",
       "      <td>41503.000764</td>\n",
       "    </tr>\n",
       "    <tr>\n",
       "      <th>3</th>\n",
       "      <td>39083.507812</td>\n",
       "      <td>41367.999031</td>\n",
       "    </tr>\n",
       "    <tr>\n",
       "      <th>4</th>\n",
       "      <td>39702.613281</td>\n",
       "      <td>40482.001101</td>\n",
       "    </tr>\n",
       "    <tr>\n",
       "      <th>5</th>\n",
       "      <td>39032.214844</td>\n",
       "      <td>39709.000359</td>\n",
       "    </tr>\n",
       "    <tr>\n",
       "      <th>6</th>\n",
       "      <td>39754.664062</td>\n",
       "      <td>39649.000036</td>\n",
       "    </tr>\n",
       "  </tbody>\n",
       "</table>\n",
       "</div>"
      ],
      "text/plain": [
       "    predictions          real\n",
       "0  39041.296875  39702.999119\n",
       "1  39756.222656  40803.001019\n",
       "2  38870.429688  41503.000764\n",
       "3  39083.507812  41367.999031\n",
       "4  39702.613281  40482.001101\n",
       "5  39032.214844  39709.000359\n",
       "6  39754.664062  39649.000036"
      ]
     },
     "execution_count": 28,
     "metadata": {},
     "output_type": "execute_result"
    }
   ],
   "source": [
    "data = {'predictions' : predictions_increased[0], 'real' : evaluation_data[0]}\n",
    "df_eval_increased_1 = pd.DataFrame(data=data)\n",
    "df_eval_increased_1"
   ]
  },
  {
   "cell_type": "code",
   "execution_count": 32,
   "metadata": {},
   "outputs": [
    {
     "data": {
      "text/html": [
       "<div>\n",
       "<style scoped>\n",
       "    .dataframe tbody tr th:only-of-type {\n",
       "        vertical-align: middle;\n",
       "    }\n",
       "\n",
       "    .dataframe tbody tr th {\n",
       "        vertical-align: top;\n",
       "    }\n",
       "\n",
       "    .dataframe thead th {\n",
       "        text-align: right;\n",
       "    }\n",
       "</style>\n",
       "<table border=\"1\" class=\"dataframe\">\n",
       "  <thead>\n",
       "    <tr style=\"text-align: right;\">\n",
       "      <th></th>\n",
       "      <th>predictions</th>\n",
       "      <th>real</th>\n",
       "    </tr>\n",
       "  </thead>\n",
       "  <tbody>\n",
       "    <tr>\n",
       "      <th>0</th>\n",
       "      <td>41558.878906</td>\n",
       "      <td>40077.998120</td>\n",
       "    </tr>\n",
       "    <tr>\n",
       "      <th>1</th>\n",
       "      <td>42274.792969</td>\n",
       "      <td>41133.000784</td>\n",
       "    </tr>\n",
       "    <tr>\n",
       "      <th>2</th>\n",
       "      <td>41205.910156</td>\n",
       "      <td>39936.000978</td>\n",
       "    </tr>\n",
       "    <tr>\n",
       "      <th>3</th>\n",
       "      <td>41495.941406</td>\n",
       "      <td>40560.001119</td>\n",
       "    </tr>\n",
       "    <tr>\n",
       "      <th>4</th>\n",
       "      <td>42110.050781</td>\n",
       "      <td>40382.000563</td>\n",
       "    </tr>\n",
       "    <tr>\n",
       "      <th>5</th>\n",
       "      <td>41392.867188</td>\n",
       "      <td>39702.999119</td>\n",
       "    </tr>\n",
       "    <tr>\n",
       "      <th>6</th>\n",
       "      <td>42189.882812</td>\n",
       "      <td>40803.001019</td>\n",
       "    </tr>\n",
       "  </tbody>\n",
       "</table>\n",
       "</div>"
      ],
      "text/plain": [
       "    predictions          real\n",
       "0  41558.878906  40077.998120\n",
       "1  42274.792969  41133.000784\n",
       "2  41205.910156  39936.000978\n",
       "3  41495.941406  40560.001119\n",
       "4  42110.050781  40382.000563\n",
       "5  41392.867188  39702.999119\n",
       "6  42189.882812  40803.001019"
      ]
     },
     "execution_count": 32,
     "metadata": {},
     "output_type": "execute_result"
    }
   ],
   "source": [
    "data = {'predictions' : predictions_increased[5], 'real' : evaluation_data[5]}\n",
    "df_eval_increased_2 = pd.DataFrame(data=data)\n",
    "df_eval_increased_2"
   ]
  },
  {
   "cell_type": "markdown",
   "metadata": {},
   "source": [
    "NOTE6: This architecture would have good accuracy after only 5 epochs:"
   ]
  },
  {
   "cell_type": "code",
   "execution_count": 33,
   "metadata": {},
   "outputs": [],
   "source": [
    "# Further notes on this model.\n",
    "model_completed = create_btc_model_increased(best_hyps)"
   ]
  },
  {
   "cell_type": "code",
   "execution_count": 34,
   "metadata": {},
   "outputs": [
    {
     "name": "stdout",
     "output_type": "stream",
     "text": [
      "Epoch 1/5\n",
      "84/84 [==============================] - 41s 435ms/step - loss: 0.0164 - mean_absolute_percentage_error: 420.6817 - val_loss: 0.0062 - val_mean_absolute_percentage_error: 226.9847\n",
      "Epoch 2/5\n",
      "84/84 [==============================] - 34s 406ms/step - loss: 0.0055 - mean_absolute_percentage_error: 175.9052 - val_loss: 0.0015 - val_mean_absolute_percentage_error: 80.8877\n",
      "Epoch 3/5\n",
      "84/84 [==============================] - 38s 448ms/step - loss: 0.0045 - mean_absolute_percentage_error: 136.3020 - val_loss: 0.0013 - val_mean_absolute_percentage_error: 80.0009\n",
      "Epoch 4/5\n",
      "84/84 [==============================] - 35s 420ms/step - loss: 0.0041 - mean_absolute_percentage_error: 90.1431 - val_loss: 0.0012 - val_mean_absolute_percentage_error: 54.1796\n",
      "Epoch 5/5\n",
      "84/84 [==============================] - 34s 410ms/step - loss: 0.0037 - mean_absolute_percentage_error: 76.4684 - val_loss: 0.0021 - val_mean_absolute_percentage_error: 51.7094\n"
     ]
    }
   ],
   "source": [
    "history = model_completed.fit(x=X_train, y=y_train, epochs=5, validation_data=(X_validation, y_validation))"
   ]
  },
  {
   "cell_type": "code",
   "execution_count": 37,
   "metadata": {},
   "outputs": [
    {
     "name": "stdout",
     "output_type": "stream",
     "text": [
      "1/1 [==============================] - 0s 88ms/step - loss: 0.0082 - mean_absolute_percentage_error: 10.5374\n"
     ]
    }
   ],
   "source": [
    "evaluation_completed = model_completed.evaluate(test_datas[:, :90, :], test_datas[:, 90:, 0])"
   ]
  },
  {
   "cell_type": "code",
   "execution_count": 38,
   "metadata": {},
   "outputs": [],
   "source": [
    "predictions_completed = model_completed.predict(test_datas[:, :90, :])\n",
    "\n",
    "predictions_completed = predictions_completed * normalization_list[0][1]"
   ]
  },
  {
   "cell_type": "code",
   "execution_count": 39,
   "metadata": {},
   "outputs": [
    {
     "data": {
      "text/html": [
       "<div>\n",
       "<style scoped>\n",
       "    .dataframe tbody tr th:only-of-type {\n",
       "        vertical-align: middle;\n",
       "    }\n",
       "\n",
       "    .dataframe tbody tr th {\n",
       "        vertical-align: top;\n",
       "    }\n",
       "\n",
       "    .dataframe thead th {\n",
       "        text-align: right;\n",
       "    }\n",
       "</style>\n",
       "<table border=\"1\" class=\"dataframe\">\n",
       "  <thead>\n",
       "    <tr style=\"text-align: right;\">\n",
       "      <th></th>\n",
       "      <th>predictions</th>\n",
       "      <th>real</th>\n",
       "    </tr>\n",
       "  </thead>\n",
       "  <tbody>\n",
       "    <tr>\n",
       "      <th>0</th>\n",
       "      <td>39071.863281</td>\n",
       "      <td>39702.999119</td>\n",
       "    </tr>\n",
       "    <tr>\n",
       "      <th>1</th>\n",
       "      <td>39505.402344</td>\n",
       "      <td>40803.001019</td>\n",
       "    </tr>\n",
       "    <tr>\n",
       "      <th>2</th>\n",
       "      <td>38759.343750</td>\n",
       "      <td>41503.000764</td>\n",
       "    </tr>\n",
       "    <tr>\n",
       "      <th>3</th>\n",
       "      <td>38414.488281</td>\n",
       "      <td>41367.999031</td>\n",
       "    </tr>\n",
       "    <tr>\n",
       "      <th>4</th>\n",
       "      <td>39134.195312</td>\n",
       "      <td>40482.001101</td>\n",
       "    </tr>\n",
       "    <tr>\n",
       "      <th>5</th>\n",
       "      <td>38762.976562</td>\n",
       "      <td>39709.000359</td>\n",
       "    </tr>\n",
       "    <tr>\n",
       "      <th>6</th>\n",
       "      <td>39528.851562</td>\n",
       "      <td>39649.000036</td>\n",
       "    </tr>\n",
       "  </tbody>\n",
       "</table>\n",
       "</div>"
      ],
      "text/plain": [
       "    predictions          real\n",
       "0  39071.863281  39702.999119\n",
       "1  39505.402344  40803.001019\n",
       "2  38759.343750  41503.000764\n",
       "3  38414.488281  41367.999031\n",
       "4  39134.195312  40482.001101\n",
       "5  38762.976562  39709.000359\n",
       "6  39528.851562  39649.000036"
      ]
     },
     "execution_count": 39,
     "metadata": {},
     "output_type": "execute_result"
    }
   ],
   "source": [
    "data = {'predictions' : predictions_completed[0], 'real' : evaluation_data[0]}\n",
    "df_eval_1 = pd.DataFrame(data=data)\n",
    "df_eval_1"
   ]
  },
  {
   "cell_type": "code",
   "execution_count": 40,
   "metadata": {},
   "outputs": [
    {
     "data": {
      "text/html": [
       "<div>\n",
       "<style scoped>\n",
       "    .dataframe tbody tr th:only-of-type {\n",
       "        vertical-align: middle;\n",
       "    }\n",
       "\n",
       "    .dataframe tbody tr th {\n",
       "        vertical-align: top;\n",
       "    }\n",
       "\n",
       "    .dataframe thead th {\n",
       "        text-align: right;\n",
       "    }\n",
       "</style>\n",
       "<table border=\"1\" class=\"dataframe\">\n",
       "  <thead>\n",
       "    <tr style=\"text-align: right;\">\n",
       "      <th></th>\n",
       "      <th>predictions</th>\n",
       "      <th>real</th>\n",
       "    </tr>\n",
       "  </thead>\n",
       "  <tbody>\n",
       "    <tr>\n",
       "      <th>0</th>\n",
       "      <td>41558.878906</td>\n",
       "      <td>40077.998120</td>\n",
       "    </tr>\n",
       "    <tr>\n",
       "      <th>1</th>\n",
       "      <td>42274.792969</td>\n",
       "      <td>41133.000784</td>\n",
       "    </tr>\n",
       "    <tr>\n",
       "      <th>2</th>\n",
       "      <td>41205.910156</td>\n",
       "      <td>39936.000978</td>\n",
       "    </tr>\n",
       "    <tr>\n",
       "      <th>3</th>\n",
       "      <td>41495.941406</td>\n",
       "      <td>40560.001119</td>\n",
       "    </tr>\n",
       "    <tr>\n",
       "      <th>4</th>\n",
       "      <td>42110.050781</td>\n",
       "      <td>40382.000563</td>\n",
       "    </tr>\n",
       "    <tr>\n",
       "      <th>5</th>\n",
       "      <td>41392.867188</td>\n",
       "      <td>39702.999119</td>\n",
       "    </tr>\n",
       "    <tr>\n",
       "      <th>6</th>\n",
       "      <td>42189.882812</td>\n",
       "      <td>40803.001019</td>\n",
       "    </tr>\n",
       "  </tbody>\n",
       "</table>\n",
       "</div>"
      ],
      "text/plain": [
       "    predictions          real\n",
       "0  41558.878906  40077.998120\n",
       "1  42274.792969  41133.000784\n",
       "2  41205.910156  39936.000978\n",
       "3  41495.941406  40560.001119\n",
       "4  42110.050781  40382.000563\n",
       "5  41392.867188  39702.999119\n",
       "6  42189.882812  40803.001019"
      ]
     },
     "execution_count": 40,
     "metadata": {},
     "output_type": "execute_result"
    }
   ],
   "source": [
    "data = {'predictions' : predictions_increased[5], 'real' : evaluation_data[5]}\n",
    "df_eval_2 = pd.DataFrame(data=data)\n",
    "df_eval_2"
   ]
  }
 ],
 "metadata": {
  "interpreter": {
   "hash": "01ca40480eea72373a1540d628c1dbaa939447450b5a00017a71696ac6208943"
  },
  "kernelspec": {
   "display_name": "Python 3.8.6 64-bit ('3.8.6')",
   "language": "python",
   "name": "python3"
  },
  "language_info": {
   "codemirror_mode": {
    "name": "ipython",
    "version": 3
   },
   "file_extension": ".py",
   "mimetype": "text/x-python",
   "name": "python",
   "nbconvert_exporter": "python",
   "pygments_lexer": "ipython3",
   "version": "3.8.6"
  },
  "orig_nbformat": 4
 },
 "nbformat": 4,
 "nbformat_minor": 2
}

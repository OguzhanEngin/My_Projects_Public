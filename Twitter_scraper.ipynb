{
 "cells": [
  {
   "cell_type": "code",
   "execution_count": 6,
   "metadata": {},
   "outputs": [
    {
     "name": "stderr",
     "output_type": "stream",
     "text": [
      "\n",
      "\n",
      "====== WebDriver manager ======\n",
      "Current google-chrome version is 100.0.4896\n",
      "Get LATEST chromedriver version for 100.0.4896 google-chrome\n",
      "Driver [/Users/oguzhanengin/.wdm/drivers/chromedriver/mac64/100.0.4896.60/chromedriver] found in cache\n",
      "/var/folders/vy/55zch8zs5qd1y2j8sysjjrk80000gn/T/ipykernel_47104/275795703.py:11: DeprecationWarning: executable_path has been deprecated, please pass in a Service object\n",
      "  driver = webdriver.Chrome(ChromeDriverManager().install())\n",
      "\n",
      "\n",
      "====== WebDriver manager ======\n",
      "Current google-chrome version is 100.0.4896\n",
      "Get LATEST chromedriver version for 100.0.4896 google-chrome\n",
      "Driver [/Users/oguzhanengin/.wdm/drivers/chromedriver/mac64/100.0.4896.60/chromedriver] found in cache\n"
     ]
    }
   ],
   "source": [
    "from selenium import webdriver\n",
    "from webdriver_manager.chrome import ChromeDriverManager\n",
    "from selenium.webdriver.common.by import By\n",
    "import time\n",
    "import xlsxwriter\n",
    "\n",
    "\n",
    "# Defining a function for scraping a twitter account.\n",
    "def twitter_scraper(twitter_name, excelSheet):\n",
    "\n",
    "    driver = webdriver.Chrome(ChromeDriverManager().install())\n",
    "    driver.get(f'https://twitter.com/{twitter_name}')\n",
    "    time.sleep(5)\n",
    "    driver.execute_script('window.scrollTo(0, 1000)')\n",
    "    time.sleep(3)\n",
    "    driver.execute_script('window.scrollTo(0, 2000)')\n",
    "    time.sleep(3)\n",
    "\n",
    "    tweets = driver.find_elements(By.CSS_SELECTOR, 'article[data-testid =\"tweet\"]')\n",
    "    tweet_texts_len = []\n",
    "    for i in range(len(tweets)):\n",
    "        a = i + 1\n",
    "        tweet_text = tweets[i].find_element(By.CSS_SELECTOR, 'div[lang=\"en\"]').text\n",
    "        tweet_time = tweets[i].find_element(By.CSS_SELECTOR, 'a[class=\"css-4rbku5 css-18t94o4 css-901oao r-1bwzh9t r-1loqt21 r-1q142lx r-37j5jr r-a023e6 r-16dba41 r-rjixqe r-bcqeeo r-3s2u2q r-qvutc0\"]').get_attribute('aria-label')\n",
    "        excelSheet.write(i, 0, f'Tweet:{a}')\n",
    "        excelSheet.write(i, 1, tweet_text)\n",
    "        excelSheet.write(i, 2, tweet_time)\n",
    "        tweet_texts_len.append(len(tweet_text))\n",
    "\n",
    "    excelSheet.set_column(1, 1, max(tweet_texts_len))\n",
    "\n",
    "\n",
    "# Defining a function for scraping a list of twitter accounts into different excel files.\n",
    "def full_twitter_scraper(twitter_names):\n",
    "\n",
    "    if type(twitter_names) == list:\n",
    "\n",
    "        for name in twitter_names:\n",
    "\n",
    "            workbook = xlsxwriter.Workbook(f'Tweets_of:{name}')\n",
    "            worksheet = workbook.add_worksheet()\n",
    "            twitter_scraper(name, worksheet)\n",
    "            workbook.close()\n",
    "\n",
    "    else:\n",
    "        \n",
    "        workbook = xlsxwriter.Workbook(f'Tweets_of:{twitter_names}')\n",
    "        worksheet = workbook.add_worksheet()\n",
    "        twitter_scraper(twitter_names, worksheet)\n",
    "        workbook.close()\n",
    "\n",
    "    \n",
    "\n",
    "\n",
    "full_twitter_scraper(['CryptoKaleo', 'AltcoinPsycho'])\n"
   ]
  }
 ],
 "metadata": {
  "interpreter": {
   "hash": "01ca40480eea72373a1540d628c1dbaa939447450b5a00017a71696ac6208943"
  },
  "kernelspec": {
   "display_name": "Python 3.8.6 64-bit ('3.8.6')",
   "language": "python",
   "name": "python3"
  },
  "language_info": {
   "codemirror_mode": {
    "name": "ipython",
    "version": 3
   },
   "file_extension": ".py",
   "mimetype": "text/x-python",
   "name": "python",
   "nbconvert_exporter": "python",
   "pygments_lexer": "ipython3",
   "version": "3.8.6"
  },
  "orig_nbformat": 4
 },
 "nbformat": 4,
 "nbformat_minor": 2
}
